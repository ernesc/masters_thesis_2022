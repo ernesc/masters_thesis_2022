{
  "cells": [
    {
      "cell_type": "markdown",
      "metadata": {
        "id": "view-in-github",
        "colab_type": "text"
      },
      "source": [
        "<a href=\"https://colab.research.google.com/github/ernesc/masters_thesis_2022/blob/main/CNN_LSTM_example.ipynb\" target=\"_parent\"><img src=\"https://colab.research.google.com/assets/colab-badge.svg\" alt=\"Open In Colab\"/></a>"
      ]
    },
    {
      "cell_type": "markdown",
      "metadata": {
        "id": "SDqtf-OoxgUt"
      },
      "source": [
        "# Data analysis Valve"
      ]
    },
    {
      "cell_type": "code",
      "source": [
        "import numpy as np\n",
        "import pandas as pd\n",
        "from google.colab import drive\n",
        "drive.mount('/content/gdrive')"
      ],
      "metadata": {
        "colab": {
          "base_uri": "https://localhost:8080/"
        },
        "id": "SNcgrNCexnbm",
        "outputId": "293bedd1-9290-42ab-c9bc-596b5c5ca29c"
      },
      "execution_count": null,
      "outputs": [
        {
          "output_type": "stream",
          "name": "stdout",
          "text": [
            "Mounted at /content/gdrive\n"
          ]
        }
      ]
    },
    {
      "cell_type": "code",
      "execution_count": null,
      "metadata": {
        "scrolled": false,
        "id": "b9jNn7t-xgUz"
      },
      "outputs": [],
      "source": [
        "#imports\n",
        "import numpy as np\n",
        "import math\n",
        "import pandas as pd\n",
        "import matplotlib.pyplot as plt\n",
        "from sklearn.preprocessing import MinMaxScaler\n",
        "from keras.models import Sequential\n",
        "from keras.layers import Dense, Dropout, LSTM, Bidirectional, Activation\n",
        "import tensorflow as tf\n",
        "plt.style.use(\"ggplot\")\n",
        "from ipywidgets.widgets import interact, Layout"
      ]
    },
    {
      "cell_type": "code",
      "execution_count": null,
      "metadata": {
        "id": "_LY3bM2gxgU2"
      },
      "outputs": [],
      "source": [
        "def extract_data(filename, dataframe):\n",
        "    \n",
        "    import pandas as pd\n",
        "    \n",
        "    df_filename = pd.read_csv(filename,\";\")\n",
        "\n",
        "    df_filename_lukket2 = pd.DataFrame()\n",
        "    df_filename_lukket2 = df_filename_lukket2.append(df_filename[df_filename[\"Data Source\"].str.contains(\"LUKKET\")])\n",
        "    df_filename_lukket = pd.DataFrame()\n",
        "    df_filename_lukket = df_filename_lukket.append(df_filename_lukket2[df_filename_lukket2[\"Value\"].str.contains(\"|\".join([\"On\", \"Off\"]))])\n",
        "    df_filename_lukket = df_filename_lukket.rename(columns={\"Data Source\": \"data_source_lukket\", \n",
        "                                          \"Time\": \"time_lukket\", \n",
        "                                          \"Value\": \"value_lukket\"})\n",
        "    df_filename_lukket[\"time_lukket\"] = pd.to_datetime(df_filename_lukket[\"time_lukket\"])\n",
        "    \n",
        "    \n",
        "    df_filename_apen1 = pd.DataFrame()\n",
        "    df_filename_apen1 = df_filename_apen1.append(df_filename[df_filename[\"Data Source\"].str.contains(\"APEN\")])\n",
        "    df_filename_apen = pd.DataFrame()\n",
        "    df_filename_apen = df_filename_apen.append(df_filename_apen1[df_filename_apen1[\"Value\"].str.contains(\"|\".join([\"On\", \"Off\"]))])\n",
        "    df_filename_apen = df_filename_apen.rename(columns={\"Data Source\": \"data_source_apen\", \n",
        "                                      \"Time\": \"time_apen\", \n",
        "                                      \"Value\": \"value_apen\"})\n",
        "    df_filename_apen[\"time_apen\"] = pd.to_datetime(df_filename_apen[\"time_apen\"])\n",
        "    \n",
        "    df_filename_lukket.reset_index(inplace = True)\n",
        "    df_filename_apen.reset_index(inplace=True)\n",
        "    df_filename_lukket = df_filename_lukket.drop(columns=\"index\")\n",
        "    df_filename_apen = df_filename_apen.drop(columns=\"index\")\n",
        "    \n",
        "    df_filename_apen['interval'] = pd.to_datetime(df_filename_apen['time_apen'])\n",
        "    df_filename_lukket['interval'] = pd.to_datetime(df_filename_lukket['time_lukket'])\n",
        "    \n",
        "    df_filename_apen.sort_values(by=['interval'])\n",
        "    df_filename_lukket.sort_values(by=['interval'])\n",
        "    \n",
        "    dataframe = pd.merge_asof(df_filename_apen, df_filename_lukket, on='interval', direction=\"nearest\")\n",
        "    \n",
        "    \n",
        "    dataframe[\"time_diff\"] = dataframe[\"time_apen\"] - dataframe[\"time_lukket\"]\n",
        "    \n",
        "    dataframe[\"time_diff_sec\"] = dataframe[\"time_diff\"].dt.total_seconds()\n",
        "    \n",
        "    dataframe = dataframe.drop(dataframe[dataframe[\"time_diff_sec\"] == 0].index)\n",
        "    \n",
        "    return dataframe"
      ]
    },
    {
      "cell_type": "code",
      "execution_count": null,
      "metadata": {
        "colab": {
          "base_uri": "https://localhost:8080/"
        },
        "id": "Qt4mMAbnxgU3",
        "outputId": "78e29792-b256-4893-e7b4-014737aebab1"
      },
      "outputs": [
        {
          "output_type": "stream",
          "name": "stderr",
          "text": [
            "/usr/local/lib/python3.7/dist-packages/ipykernel_launcher.py:2: FutureWarning: In a future version of pandas all arguments of read_csv except for the argument 'filepath_or_buffer' will be keyword-only\n",
            "  \n",
            "/usr/local/lib/python3.7/dist-packages/ipykernel_launcher.py:3: FutureWarning: In a future version of pandas all arguments of read_csv except for the argument 'filepath_or_buffer' will be keyword-only\n",
            "  This is separate from the ipykernel package so we can avoid doing imports until\n",
            "/usr/local/lib/python3.7/dist-packages/ipykernel_launcher.py:4: FutureWarning: In a future version of pandas all arguments of read_csv except for the argument 'filepath_or_buffer' will be keyword-only\n",
            "  after removing the cwd from sys.path.\n",
            "/usr/local/lib/python3.7/dist-packages/ipykernel_launcher.py:5: FutureWarning: In a future version of pandas all arguments of read_csv except for the argument 'filepath_or_buffer' will be keyword-only\n",
            "  \"\"\"\n",
            "/usr/local/lib/python3.7/dist-packages/ipykernel_launcher.py:6: FutureWarning: In a future version of pandas all arguments of read_csv except for the argument 'filepath_or_buffer' will be keyword-only\n",
            "  \n",
            "/usr/local/lib/python3.7/dist-packages/ipykernel_launcher.py:7: FutureWarning: In a future version of pandas all arguments of read_csv except for the argument 'filepath_or_buffer' will be keyword-only\n",
            "  import sys\n",
            "/usr/local/lib/python3.7/dist-packages/ipykernel_launcher.py:8: FutureWarning: In a future version of pandas all arguments of read_csv except for the argument 'filepath_or_buffer' will be keyword-only\n",
            "  \n",
            "/usr/local/lib/python3.7/dist-packages/ipykernel_launcher.py:9: FutureWarning: In a future version of pandas all arguments of read_csv except for the argument 'filepath_or_buffer' will be keyword-only\n",
            "  if __name__ == '__main__':\n",
            "/usr/local/lib/python3.7/dist-packages/ipykernel_launcher.py:10: FutureWarning: In a future version of pandas all arguments of read_csv except for the argument 'filepath_or_buffer' will be keyword-only\n",
            "  # Remove the CWD from sys.path while we load stuff.\n",
            "/usr/local/lib/python3.7/dist-packages/ipykernel_launcher.py:11: FutureWarning: In a future version of pandas all arguments of read_csv except for the argument 'filepath_or_buffer' will be keyword-only\n",
            "  # This is added back by InteractiveShellApp.init_path()\n",
            "/usr/local/lib/python3.7/dist-packages/ipykernel_launcher.py:18: FutureWarning: In a future version of pandas all arguments of read_csv except for the argument 'filepath_or_buffer' will be keyword-only\n",
            "/usr/local/lib/python3.7/dist-packages/ipykernel_launcher.py:19: FutureWarning: In a future version of pandas all arguments of read_csv except for the argument 'filepath_or_buffer' will be keyword-only\n",
            "/usr/local/lib/python3.7/dist-packages/ipykernel_launcher.py:20: FutureWarning: In a future version of pandas all arguments of read_csv except for the argument 'filepath_or_buffer' will be keyword-only\n",
            "/usr/local/lib/python3.7/dist-packages/ipykernel_launcher.py:21: FutureWarning: In a future version of pandas all arguments of read_csv except for the argument 'filepath_or_buffer' will be keyword-only\n",
            "/usr/local/lib/python3.7/dist-packages/ipykernel_launcher.py:22: FutureWarning: In a future version of pandas all arguments of read_csv except for the argument 'filepath_or_buffer' will be keyword-only\n",
            "/usr/local/lib/python3.7/dist-packages/ipykernel_launcher.py:23: FutureWarning: In a future version of pandas all arguments of read_csv except for the argument 'filepath_or_buffer' will be keyword-only\n",
            "/usr/local/lib/python3.7/dist-packages/ipykernel_launcher.py:24: FutureWarning: In a future version of pandas all arguments of read_csv except for the argument 'filepath_or_buffer' will be keyword-only\n",
            "/usr/local/lib/python3.7/dist-packages/ipykernel_launcher.py:25: FutureWarning: In a future version of pandas all arguments of read_csv except for the argument 'filepath_or_buffer' will be keyword-only\n",
            "/usr/local/lib/python3.7/dist-packages/ipykernel_launcher.py:26: FutureWarning: In a future version of pandas all arguments of read_csv except for the argument 'filepath_or_buffer' will be keyword-only\n",
            "/usr/local/lib/python3.7/dist-packages/ipykernel_launcher.py:27: FutureWarning: In a future version of pandas all arguments of read_csv except for the argument 'filepath_or_buffer' will be keyword-only\n",
            "/usr/local/lib/python3.7/dist-packages/ipykernel_launcher.py:34: FutureWarning: In a future version of pandas all arguments of read_csv except for the argument 'filepath_or_buffer' will be keyword-only\n",
            "/usr/local/lib/python3.7/dist-packages/ipykernel_launcher.py:35: FutureWarning: In a future version of pandas all arguments of read_csv except for the argument 'filepath_or_buffer' will be keyword-only\n",
            "/usr/local/lib/python3.7/dist-packages/ipykernel_launcher.py:36: FutureWarning: In a future version of pandas all arguments of read_csv except for the argument 'filepath_or_buffer' will be keyword-only\n",
            "/usr/local/lib/python3.7/dist-packages/ipykernel_launcher.py:37: FutureWarning: In a future version of pandas all arguments of read_csv except for the argument 'filepath_or_buffer' will be keyword-only\n",
            "/usr/local/lib/python3.7/dist-packages/ipykernel_launcher.py:38: FutureWarning: In a future version of pandas all arguments of read_csv except for the argument 'filepath_or_buffer' will be keyword-only\n",
            "/usr/local/lib/python3.7/dist-packages/ipykernel_launcher.py:39: FutureWarning: In a future version of pandas all arguments of read_csv except for the argument 'filepath_or_buffer' will be keyword-only\n",
            "/usr/local/lib/python3.7/dist-packages/ipykernel_launcher.py:40: FutureWarning: In a future version of pandas all arguments of read_csv except for the argument 'filepath_or_buffer' will be keyword-only\n",
            "/usr/local/lib/python3.7/dist-packages/ipykernel_launcher.py:41: FutureWarning: In a future version of pandas all arguments of read_csv except for the argument 'filepath_or_buffer' will be keyword-only\n",
            "/usr/local/lib/python3.7/dist-packages/ipykernel_launcher.py:42: FutureWarning: In a future version of pandas all arguments of read_csv except for the argument 'filepath_or_buffer' will be keyword-only\n",
            "/usr/local/lib/python3.7/dist-packages/ipykernel_launcher.py:43: FutureWarning: In a future version of pandas all arguments of read_csv except for the argument 'filepath_or_buffer' will be keyword-only\n"
          ]
        }
      ],
      "source": [
        "\n",
        "data_2012_1 = extract_data(\"/content/gdrive/My Drive/MASTER_data/nore_1/Agg1/2012.csv\", 2012)\n",
        "data_2013_1 = extract_data(\"/content/gdrive/My Drive/MASTER_data/nore_1/Agg1/2013.csv\", 2013)\n",
        "data_2014_1 = extract_data(\"/content/gdrive/My Drive/MASTER_data/nore_1/Agg1/2014.csv\", 2014)\n",
        "data_2015_1 = extract_data(\"/content/gdrive/My Drive/MASTER_data/nore_1/Agg1/2015.csv\", 2015)\n",
        "data_2016_1 = extract_data(\"/content/gdrive/My Drive/MASTER_data/nore_1/Agg1/2016.csv\", 2016)\n",
        "data_2017_1 = extract_data(\"/content/gdrive/My Drive/MASTER_data/nore_1/Agg1/2017.csv\", 2017)\n",
        "data_2018_1 = extract_data(\"/content/gdrive/My Drive/MASTER_data/nore_1/Agg1/2018.csv\", 2018)\n",
        "data_2019_1 = extract_data(\"/content/gdrive/My Drive/MASTER_data/nore_1/Agg1/2019.csv\", 2019)\n",
        "data_2020_1 = extract_data(\"/content/gdrive/My Drive/MASTER_data/nore_1/Agg1/2020.csv\", 2020)\n",
        "data_2021_1 = extract_data(\"/content/gdrive/My Drive/MASTER_data/nore_1/Agg1/2021.csv\", 2021)\n",
        "\n",
        "\n",
        "frames = [data_2012_1, data_2013_1, data_2014_1, data_2015_1, data_2016_1, data_2017_1, data_2018_1, data_2019_1, data_2020_1, data_2021_1]\n",
        "\n",
        "agg1 = pd.concat(frames)\n",
        "\n",
        "data_2012_2 = extract_data(\"/content/gdrive/My Drive/MASTER_data/nore_1/Agg2/2012.csv\", 2012)\n",
        "data_2013_2 = extract_data(\"/content/gdrive/My Drive/MASTER_data/nore_1/Agg2/2013.csv\", 2013)\n",
        "data_2014_2 = extract_data(\"/content/gdrive/My Drive/MASTER_data/nore_1/Agg2/2014.csv\", 2014)\n",
        "data_2015_2 = extract_data(\"/content/gdrive/My Drive/MASTER_data/nore_1/Agg2/2015.csv\", 2015)\n",
        "data_2016_2 = extract_data(\"/content/gdrive/My Drive/MASTER_data/nore_1/Agg2/2016.csv\", 2016)\n",
        "data_2017_2 = extract_data(\"/content/gdrive/My Drive/MASTER_data/nore_1/Agg2/2017.csv\", 2017)\n",
        "data_2018_2 = extract_data(\"/content/gdrive/My Drive/MASTER_data/nore_1/Agg2/2018.csv\", 2018)\n",
        "data_2019_2 = extract_data(\"/content/gdrive/My Drive/MASTER_data/nore_1/Agg2/2019.csv\", 2019)\n",
        "data_2020_2 = extract_data(\"/content/gdrive/My Drive/MASTER_data/nore_1/Agg2/2020.csv\", 2020)\n",
        "data_2021_2 = extract_data(\"/content/gdrive/My Drive/MASTER_data/nore_1/Agg2/2021.csv\", 2021)\n",
        "\n",
        "\n",
        "frames = [data_2012_2, data_2013_2, data_2014_2, data_2015_2, data_2016_2, data_2017_2, data_2018_2, data_2019_2, data_2020_2, data_2021_2]\n",
        "\n",
        "agg2 = pd.concat(frames)\n",
        "\n",
        "data_2012_3 = extract_data(\"/content/gdrive/My Drive/MASTER_data/nore_1/Agg3/2012.csv\", 2012)\n",
        "data_2013_3 = extract_data(\"/content/gdrive/My Drive/MASTER_data/nore_1/Agg3/2013.csv\", 2013)\n",
        "data_2014_3 = extract_data(\"/content/gdrive/My Drive/MASTER_data/nore_1/Agg3/2014.csv\", 2014)\n",
        "data_2015_3 = extract_data(\"/content/gdrive/My Drive/MASTER_data/nore_1/Agg3/2015.csv\", 2015)\n",
        "data_2016_3 = extract_data(\"/content/gdrive/My Drive/MASTER_data/nore_1/Agg3/2016.csv\", 2016)\n",
        "data_2017_3 = extract_data(\"/content/gdrive/My Drive/MASTER_data/nore_1/Agg3/2017.csv\", 2017)\n",
        "data_2018_3 = extract_data(\"/content/gdrive/My Drive/MASTER_data/nore_1/Agg3/2018.csv\", 2018)\n",
        "data_2019_3 = extract_data(\"/content/gdrive/My Drive/MASTER_data/nore_1/Agg3/2019.csv\", 2019)\n",
        "data_2020_3 = extract_data(\"/content/gdrive/My Drive/MASTER_data/nore_1/Agg3/2020.csv\", 2020)\n",
        "data_2021_3 = extract_data(\"/content/gdrive/My Drive/MASTER_data/nore_1/Agg3/2021.csv\", 2021)\n",
        "\n",
        "\n",
        "frames = [data_2012_3, data_2013_3, data_2014_3, data_2015_3, data_2016_3, data_2017_3, data_2018_3, data_2019_3, data_2020_3, data_2021_3]\n",
        "\n",
        "agg3 = pd.concat(frames)\n"
      ]
    },
    {
      "cell_type": "code",
      "execution_count": null,
      "metadata": {
        "id": "ufBEYvyrxgU4"
      },
      "outputs": [],
      "source": [
        "agg1_close = agg1[agg1.time_diff_sec < 0]\n",
        "agg1_open = agg1[agg1.time_diff_sec > 0]\n",
        "agg1_open_v1 = agg1_open['time_diff_sec']\n",
        "agg1_close_v1 = agg1_close['time_diff_sec']\n",
        "agg1_open_v2 = agg1_open[['time_apen', 'time_diff_sec']]\n",
        "agg1_open_v2 = agg1_open_v2.set_index('time_apen')\n",
        "\n",
        "agg2_close = agg2[agg2.time_diff_sec < 0]\n",
        "agg2_open = agg2[agg2.time_diff_sec > 0]\n",
        "agg2_open_v1 = agg2_open['time_diff_sec']\n",
        "agg2_close_v1 = agg2_close['time_diff_sec']\n",
        "agg2_open_v2 = agg2_open[['time_apen', 'time_diff_sec']]\n",
        "agg2_open_v2 = agg2_open_v2.set_index('time_apen')\n",
        "\n",
        "agg3_close = agg3[agg3.time_diff_sec < 0]\n",
        "agg3_open = agg3[agg3.time_diff_sec > 0]\n",
        "agg3_open_v1 = agg3_open['time_diff_sec']\n",
        "agg3_close_v1 = agg3_close['time_diff_sec']\n",
        "agg3_open_v2 = agg3_open[['time_apen', 'time_diff_sec']]\n",
        "agg3_open_v2 = agg3_open_v2.set_index('time_apen')\n",
        "agg3_close_v2 = agg3_close[['time_lukket', 'time_diff_sec']]\n",
        "agg3_close_v2 = agg3_close_v2.set_index('time_lukket')"
      ]
    },
    {
      "cell_type": "code",
      "source": [
        "def remove_outliers_v1(data, cutoff):\n",
        "    data_mean, data_std = np.mean(data), np.std(data)\n",
        "    cut_off = data_std * cutoff\n",
        "    lower, upper = data_mean - cut_off, data_mean + cut_off\n",
        "    outliers = [x for x in data if x < lower or x > upper]\n",
        "    print('Identified outliers: %d' % len(outliers))\n",
        "    outliers_removed = [x for x in data if x >= lower and x <= upper]\n",
        "    print('Non-outlier obs: %d' % len(outliers_removed))\n",
        "    \n",
        "    return outliers"
      ],
      "metadata": {
        "id": "p_StZN0bj9Ky"
      },
      "execution_count": null,
      "outputs": []
    },
    {
      "cell_type": "code",
      "source": [
        "dataset = agg1_close_v1\n",
        "# validation data is going to be the last 60 cycles\n",
        "last = 100"
      ],
      "metadata": {
        "id": "cGe3lrlvVcAX"
      },
      "execution_count": null,
      "outputs": []
    },
    {
      "cell_type": "code",
      "source": [
        "outliers = remove_outliers_v1(dataset, 3)"
      ],
      "metadata": {
        "colab": {
          "base_uri": "https://localhost:8080/"
        },
        "id": "DKJyoHKykFJ6",
        "outputId": "839dca1a-497f-420c-ac03-5172c924333a"
      },
      "execution_count": null,
      "outputs": [
        {
          "output_type": "stream",
          "name": "stdout",
          "text": [
            "Identified outliers: 4\n",
            "Non-outlier obs: 348\n"
          ]
        }
      ]
    },
    {
      "cell_type": "code",
      "execution_count": null,
      "metadata": {
        "id": "O-9w0fZKxgU8"
      },
      "outputs": [],
      "source": [
        "dataset = dataset[~dataset.isin(outliers)]"
      ]
    },
    {
      "cell_type": "code",
      "execution_count": null,
      "metadata": {
        "colab": {
          "base_uri": "https://localhost:8080/",
          "height": 392
        },
        "id": "HWWdMpwyxgU9",
        "outputId": "7030428e-6c3e-4038-d968-276ff88bf990"
      },
      "outputs": [
        {
          "output_type": "execute_result",
          "data": {
            "text/plain": [
              "[<matplotlib.lines.Line2D at 0x7f96cccad9d0>]"
            ]
          },
          "metadata": {},
          "execution_count": 16
        },
        {
          "output_type": "display_data",
          "data": {
            "text/plain": [
              "<Figure size 864x432 with 1 Axes>"
            ],
            "image/png": "[encoded data removed]"
          },
          "metadata": {}
        }
      ],
      "source": [
        "plt.figure(figsize=(12,6))\n",
        "\n",
        "plt.plot(np.arange(0,len(dataset)),dataset)"
      ]
    },
    {
      "cell_type": "code",
      "execution_count": null,
      "metadata": {
        "id": "yDDoofzHxgU-"
      },
      "outputs": [],
      "source": [
        "def sliding_window(data, window_size): \n",
        "  from numpy import array\n",
        "  X, y = list(), list()\n",
        "  for i in range(len(data)):\n",
        "    # find the end of this pattern\n",
        "    end_ix = i + window_size\n",
        "    # check if we are beyond the sequence\n",
        "    if end_ix > len(data)-1: \n",
        "      break\n",
        "    # gather input and output parts of the pattern\n",
        "    seq_x, seq_y = data[i:end_ix], data[end_ix] \n",
        "    X.append(seq_x)\n",
        "    y.append(seq_y)\n",
        "  return array(X), array(y)"
      ]
    },
    {
      "cell_type": "code",
      "execution_count": null,
      "metadata": {
        "colab": {
          "base_uri": "https://localhost:8080/"
        },
        "id": "YC6bKqT0xgU-",
        "outputId": "9404a14a-e034-4238-a0f9-93a118ee34da"
      },
      "outputs": [
        {
          "output_type": "stream",
          "name": "stdout",
          "text": [
            "Epoch 1/1000\n",
            "5/5 [==============================] - ETA: 0s - loss: 86.5865 - root_mean_squared_error: 86.7020INFO:tensorflow:Assets written to: model103/assets\n"
          ]
        },
        {
          "output_type": "stream",
          "name": "stderr",
          "text": [
            "WARNING:absl:<keras.layers.recurrent.LSTMCell object at 0x7f96c82b4610> has the same name 'LSTMCell' as a built-in Keras object. Consider renaming <class 'keras.layers.recurrent.LSTMCell'> to avoid naming conflicts when loading with `tf.keras.models.load_model`. If renaming is not possible, pass the object in the `custom_objects` parameter of the load function.\n"
          ]
        },
        {
          "output_type": "stream",
          "name": "stdout",
          "text": [
            "\b\b\b\b\b\b\b\b\b\b\b\b\b\b\b\b\b\b\b\b\b\b\b\b\b\b\b\b\b\b\b\b\b\b\b\b\b\b\b\b\b\b\b\b\b\b\b\b\b\b\b\b\b\b\b\b\b\b\b\b\b\b\b\b\b\b\b\b\b\b\b\b\b\b\b\b\b\b\b\b\b\b\b\b\b\b\b\b\b\b\b\b\b\b\b\b\b\r5/5 [==============================] - 6s 884ms/step - loss: 86.5865 - root_mean_squared_error: 86.7020 - val_loss: 79.0131 - val_root_mean_squared_error: 79.1450\n",
            "Epoch 2/1000\n",
            "5/5 [==============================] - ETA: 0s - loss: 75.0089 - root_mean_squared_error: 75.1553INFO:tensorflow:Assets written to: model103/assets\n"
          ]
        },
        {
          "output_type": "stream",
          "name": "stderr",
          "text": [
            "INFO:tensorflow:Assets written to: model103/assets\n",
            "WARNING:absl:<keras.layers.recurrent.LSTMCell object at 0x7f96c82b4610> has the same name 'LSTMCell' as a built-in Keras object. Consider renaming <class 'keras.layers.recurrent.LSTMCell'> to avoid naming conflicts when loading with `tf.keras.models.load_model`. If renaming is not possible, pass the object in the `custom_objects` parameter of the load function.\n"
          ]
        },
        {
          "output_type": "stream",
          "name": "stdout",
          "text": [
            "\b\b\b\b\b\b\b\b\b\b\b\b\b\b\b\b\b\b\b\b\b\b\b\b\b\b\b\b\b\b\b\b\b\b\b\b\b\b\b\b\b\b\b\b\b\b\b\b\b\b\b\b\b\b\b\b\b\b\b\b\b\b\b\b\b\b\b\b\b\b\b\b\b\b\b\b\b\b\b\b\b\b\b\b\b\b\b\b\b\b\b\b\b\b\b\b\b\r5/5 [==============================] - 3s 836ms/step - loss: 75.0089 - root_mean_squared_error: 75.1553 - val_loss: 64.6859 - val_root_mean_squared_error: 64.8490\n",
            "Epoch 3/1000\n",
            "5/5 [==============================] - ETA: 0s - loss: 58.0528 - root_mean_squared_error: 58.3948INFO:tensorflow:Assets written to: model103/assets\n"
          ]
        },
        {
          "output_type": "stream",
          "name": "stderr",
          "text": [
            "INFO:tensorflow:Assets written to: model103/assets\n",
            "WARNING:absl:<keras.layers.recurrent.LSTMCell object at 0x7f96c82b4610> has the same name 'LSTMCell' as a built-in Keras object. Consider renaming <class 'keras.layers.recurrent.LSTMCell'> to avoid naming conflicts when loading with `tf.keras.models.load_model`. If renaming is not possible, pass the object in the `custom_objects` parameter of the load function.\n"
          ]
        },
        {
          "output_type": "stream",
          "name": "stdout",
          "text": [
            "\b\b\b\b\b\b\b\b\b\b\b\b\b\b\b\b\b\b\b\b\b\b\b\b\b\b\b\b\b\b\b\b\b\b\b\b\b\b\b\b\b\b\b\b\b\b\b\b\b\b\b\b\b\b\b\b\b\b\b\b\b\b\b\b\b\b\b\b\b\b\b\b\b\b\b\b\b\b\b\b\b\b\b\b\b\b\b\b\b\b\b\b\b\b\b\b\b\r5/5 [==============================] - 6s 2s/step - loss: 58.0528 - root_mean_squared_error: 58.3948 - val_loss: 42.9341 - val_root_mean_squared_error: 43.1664\n",
            "Epoch 4/1000\n",
            "5/5 [==============================] - ETA: 0s - loss: 32.6667 - root_mean_squared_error: 33.9239INFO:tensorflow:Assets written to: model103/assets\n"
          ]
        },
        {
          "output_type": "stream",
          "name": "stderr",
          "text": [
            "INFO:tensorflow:Assets written to: model103/assets\n",
            "WARNING:absl:<keras.layers.recurrent.LSTMCell object at 0x7f96c82b4610> has the same name 'LSTMCell' as a built-in Keras object. Consider renaming <class 'keras.layers.recurrent.LSTMCell'> to avoid naming conflicts when loading with `tf.keras.models.load_model`. If renaming is not possible, pass the object in the `custom_objects` parameter of the load function.\n"
          ]
        },
        {
          "output_type": "stream",
          "name": "stdout",
          "text": [
            "\b\b\b\b\b\b\b\b\b\b\b\b\b\b\b\b\b\b\b\b\b\b\b\b\b\b\b\b\b\b\b\b\b\b\b\b\b\b\b\b\b\b\b\b\b\b\b\b\b\b\b\b\b\b\b\b\b\b\b\b\b\b\b\b\b\b\b\b\b\b\b\b\b\b\b\b\b\b\b\b\b\b\b\b\b\b\b\b\b\b\b\b\b\b\b\b\b\r5/5 [==============================] - 7s 2s/step - loss: 32.6667 - root_mean_squared_error: 33.9239 - val_loss: 10.2690 - val_root_mean_squared_error: 11.2094\n",
            "Epoch 5/1000\n",
            "5/5 [==============================] - 0s 62ms/step - loss: 7.7396 - root_mean_squared_error: 9.0759 - val_loss: 14.7677 - val_root_mean_squared_error: 15.4379\n",
            "Epoch 6/1000\n",
            "4/5 [=======================>......] - ETA: 0s - loss: 11.5643 - root_mean_squared_error: 12.0737INFO:tensorflow:Assets written to: model103/assets\n"
          ]
        },
        {
          "output_type": "stream",
          "name": "stderr",
          "text": [
            "INFO:tensorflow:Assets written to: model103/assets\n",
            "WARNING:absl:<keras.layers.recurrent.LSTMCell object at 0x7f96c82b4610> has the same name 'LSTMCell' as a built-in Keras object. Consider renaming <class 'keras.layers.recurrent.LSTMCell'> to avoid naming conflicts when loading with `tf.keras.models.load_model`. If renaming is not possible, pass the object in the `custom_objects` parameter of the load function.\n"
          ]
        },
        {
          "output_type": "stream",
          "name": "stdout",
          "text": [
            "\b\b\b\b\b\b\b\b\b\b\b\b\b\b\b\b\b\b\b\b\b\b\b\b\b\b\b\b\b\b\b\b\b\b\b\b\b\b\b\b\b\b\b\b\b\b\b\b\b\b\b\b\b\b\b\b\b\b\b\b\b\b\b\b\b\b\b\b\b\b\b\b\b\b\b\b\b\b\b\b\b\b\b\b\b\b\b\b\b\b\b\b\b\b\b\b\b\r5/5 [==============================] - 8s 2s/step - loss: 10.5974 - root_mean_squared_error: 11.3591 - val_loss: 5.3602 - val_root_mean_squared_error: 6.5582\n",
            "Epoch 7/1000\n",
            "5/5 [==============================] - 0s 66ms/step - loss: 4.2505 - root_mean_squared_error: 5.1707 - val_loss: 5.6790 - val_root_mean_squared_error: 6.6750\n",
            "Epoch 8/1000\n",
            "4/5 [=======================>......] - ETA: 0s - loss: 5.3639 - root_mean_squared_error: 6.2467INFO:tensorflow:Assets written to: model103/assets\n"
          ]
        },
        {
          "output_type": "stream",
          "name": "stderr",
          "text": [
            "INFO:tensorflow:Assets written to: model103/assets\n",
            "WARNING:absl:<keras.layers.recurrent.LSTMCell object at 0x7f96c82b4610> has the same name 'LSTMCell' as a built-in Keras object. Consider renaming <class 'keras.layers.recurrent.LSTMCell'> to avoid naming conflicts when loading with `tf.keras.models.load_model`. If renaming is not possible, pass the object in the `custom_objects` parameter of the load function.\n"
          ]
        },
        {
          "output_type": "stream",
          "name": "stdout",
          "text": [
            "\b\b\b\b\b\b\b\b\b\b\b\b\b\b\b\b\b\b\b\b\b\b\b\b\b\b\b\b\b\b\b\b\b\b\b\b\b\b\b\b\b\b\b\b\b\b\b\b\b\b\b\b\b\b\b\b\b\b\b\b\b\b\b\b\b\b\b\b\b\b\b\b\b\b\b\b\b\b\b\b\b\b\b\b\b\b\b\b\b\b\b\b\b\b\b\r5/5 [==============================] - 5s 1s/step - loss: 4.9649 - root_mean_squared_error: 5.8840 - val_loss: 3.6730 - val_root_mean_squared_error: 4.9534\n",
            "Epoch 9/1000\n",
            "5/5 [==============================] - 0s 68ms/step - loss: 3.4920 - root_mean_squared_error: 4.3147 - val_loss: 5.5596 - val_root_mean_squared_error: 6.7512\n",
            "Epoch 10/1000\n",
            "5/5 [==============================] - ETA: 0s - loss: 3.0081 - root_mean_squared_error: 3.6411INFO:tensorflow:Assets written to: model103/assets\n"
          ]
        },
        {
          "output_type": "stream",
          "name": "stderr",
          "text": [
            "INFO:tensorflow:Assets written to: model103/assets\n",
            "WARNING:absl:<keras.layers.recurrent.LSTMCell object at 0x7f96c82b4610> has the same name 'LSTMCell' as a built-in Keras object. Consider renaming <class 'keras.layers.recurrent.LSTMCell'> to avoid naming conflicts when loading with `tf.keras.models.load_model`. If renaming is not possible, pass the object in the `custom_objects` parameter of the load function.\n"
          ]
        },
        {
          "output_type": "stream",
          "name": "stdout",
          "text": [
            "\b\b\b\b\b\b\b\b\b\b\b\b\b\b\b\b\b\b\b\b\b\b\b\b\b\b\b\b\b\b\b\b\b\b\b\b\b\b\b\b\b\b\b\b\b\b\b\b\b\b\b\b\b\b\b\b\b\b\b\b\b\b\b\b\b\b\b\b\b\b\b\b\b\b\b\b\b\b\b\b\b\b\b\b\b\b\b\b\b\b\b\b\b\b\b\r5/5 [==============================] - 7s 2s/step - loss: 3.0081 - root_mean_squared_error: 3.6411 - val_loss: 3.9391 - val_root_mean_squared_error: 4.5059\n",
            "Epoch 11/1000\n",
            "5/5 [==============================] - ETA: 0s - loss: 3.3725 - root_mean_squared_error: 4.1550INFO:tensorflow:Assets written to: model103/assets\n"
          ]
        },
        {
          "output_type": "stream",
          "name": "stderr",
          "text": [
            "INFO:tensorflow:Assets written to: model103/assets\n",
            "WARNING:absl:<keras.layers.recurrent.LSTMCell object at 0x7f96c82b4610> has the same name 'LSTMCell' as a built-in Keras object. Consider renaming <class 'keras.layers.recurrent.LSTMCell'> to avoid naming conflicts when loading with `tf.keras.models.load_model`. If renaming is not possible, pass the object in the `custom_objects` parameter of the load function.\n"
          ]
        },
        {
          "output_type": "stream",
          "name": "stdout",
          "text": [
            "\b\b\b\b\b\b\b\b\b\b\b\b\b\b\b\b\b\b\b\b\b\b\b\b\b\b\b\b\b\b\b\b\b\b\b\b\b\b\b\b\b\b\b\b\b\b\b\b\b\b\b\b\b\b\b\b\b\b\b\b\b\b\b\b\b\b\b\b\b\b\b\b\b\b\b\b\b\b\b\b\b\b\b\b\b\b\b\b\b\b\b\b\b\b\b\r5/5 [==============================] - 6s 1s/step - loss: 3.3725 - root_mean_squared_error: 4.1550 - val_loss: 3.6013 - val_root_mean_squared_error: 4.4885\n",
            "Epoch 12/1000\n",
            "5/5 [==============================] - 0s 36ms/step - loss: 2.7289 - root_mean_squared_error: 3.2593 - val_loss: 4.4668 - val_root_mean_squared_error: 5.7222\n",
            "Epoch 13/1000\n",
            "5/5 [==============================] - 0s 39ms/step - loss: 2.9071 - root_mean_squared_error: 3.5044 - val_loss: 3.5069 - val_root_mean_squared_error: 4.5481\n",
            "Epoch 14/1000\n",
            "5/5 [==============================] - 0s 34ms/step - loss: 2.7449 - root_mean_squared_error: 3.3826 - val_loss: 3.5412 - val_root_mean_squared_error: 4.5167\n",
            "Epoch 15/1000\n",
            "5/5 [==============================] - 0s 34ms/step - loss: 2.6052 - root_mean_squared_error: 3.1525 - val_loss: 3.9801 - val_root_mean_squared_error: 5.2582\n",
            "Epoch 16/1000\n",
            "5/5 [==============================] - 0s 37ms/step - loss: 2.7561 - root_mean_squared_error: 3.3207 - val_loss: 3.4909 - val_root_mean_squared_error: 4.6671\n",
            "Epoch 17/1000\n",
            "5/5 [==============================] - 0s 36ms/step - loss: 2.6422 - root_mean_squared_error: 3.2122 - val_loss: 3.5287 - val_root_mean_squared_error: 4.5239\n",
            "Epoch 18/1000\n",
            "5/5 [==============================] - 0s 35ms/step - loss: 2.6805 - root_mean_squared_error: 3.2445 - val_loss: 3.6333 - val_root_mean_squared_error: 4.8909\n",
            "Epoch 19/1000\n",
            "5/5 [==============================] - 0s 38ms/step - loss: 2.6541 - root_mean_squared_error: 3.1792 - val_loss: 3.4894 - val_root_mean_squared_error: 4.6635\n",
            "Epoch 20/1000\n",
            "5/5 [==============================] - 0s 38ms/step - loss: 2.6322 - root_mean_squared_error: 3.1677 - val_loss: 3.4854 - val_root_mean_squared_error: 4.6444\n",
            "Epoch 21/1000\n",
            "5/5 [==============================] - 0s 50ms/step - loss: 2.6299 - root_mean_squared_error: 3.1806 - val_loss: 3.5083 - val_root_mean_squared_error: 4.7001\n",
            "Epoch 22/1000\n",
            "5/5 [==============================] - 0s 71ms/step - loss: 2.6286 - root_mean_squared_error: 3.1352 - val_loss: 3.6402 - val_root_mean_squared_error: 4.8993\n",
            "Epoch 23/1000\n",
            "5/5 [==============================] - 0s 81ms/step - loss: 2.6739 - root_mean_squared_error: 3.1831 - val_loss: 3.5113 - val_root_mean_squared_error: 4.5417\n",
            "Epoch 24/1000\n",
            "5/5 [==============================] - 0s 86ms/step - loss: 2.6293 - root_mean_squared_error: 3.1841 - val_loss: 3.6050 - val_root_mean_squared_error: 4.8510\n",
            "Epoch 25/1000\n",
            "5/5 [==============================] - 0s 74ms/step - loss: 2.6397 - root_mean_squared_error: 3.1625 - val_loss: 3.5929 - val_root_mean_squared_error: 4.8350\n",
            "Epoch 26/1000\n",
            "5/5 [==============================] - 0s 70ms/step - loss: 2.6322 - root_mean_squared_error: 3.2049 - val_loss: 3.4803 - val_root_mean_squared_error: 4.6222\n",
            "Epoch 27/1000\n",
            "5/5 [==============================] - 0s 85ms/step - loss: 2.6289 - root_mean_squared_error: 3.1591 - val_loss: 3.4854 - val_root_mean_squared_error: 4.6459\n",
            "Epoch 28/1000\n",
            "5/5 [==============================] - 0s 66ms/step - loss: 2.6181 - root_mean_squared_error: 3.1605 - val_loss: 3.4839 - val_root_mean_squared_error: 4.6396\n",
            "Epoch 29/1000\n",
            "5/5 [==============================] - 0s 51ms/step - loss: 2.6173 - root_mean_squared_error: 3.1831 - val_loss: 3.5309 - val_root_mean_squared_error: 4.7432\n",
            "Epoch 30/1000\n",
            "5/5 [==============================] - 0s 51ms/step - loss: 2.6777 - root_mean_squared_error: 3.2016 - val_loss: 3.6113 - val_root_mean_squared_error: 4.8595\n",
            "Epoch 31/1000\n",
            "5/5 [==============================] - 0s 52ms/step - loss: 2.6366 - root_mean_squared_error: 3.1698 - val_loss: 3.4782 - val_root_mean_squared_error: 4.5817\n",
            "Epoch 32/1000\n",
            "5/5 [==============================] - 0s 59ms/step - loss: 2.6147 - root_mean_squared_error: 3.1782 - val_loss: 3.6129 - val_root_mean_squared_error: 4.8618\n",
            "Epoch 33/1000\n",
            "5/5 [==============================] - 0s 50ms/step - loss: 2.6243 - root_mean_squared_error: 3.1459 - val_loss: 3.4978 - val_root_mean_squared_error: 4.5583\n",
            "Epoch 34/1000\n",
            "5/5 [==============================] - 0s 44ms/step - loss: 2.6331 - root_mean_squared_error: 3.1851 - val_loss: 3.4871 - val_root_mean_squared_error: 4.6566\n",
            "Epoch 35/1000\n",
            "5/5 [==============================] - 0s 41ms/step - loss: 2.6575 - root_mean_squared_error: 3.1866 - val_loss: 3.6213 - val_root_mean_squared_error: 4.8734\n",
            "Epoch 36/1000\n",
            "5/5 [==============================] - 0s 62ms/step - loss: 2.6958 - root_mean_squared_error: 3.2623 - val_loss: 3.4745 - val_root_mean_squared_error: 4.5993\n",
            "Epoch 37/1000\n",
            "5/5 [==============================] - 0s 70ms/step - loss: 2.6679 - root_mean_squared_error: 3.2092 - val_loss: 3.6635 - val_root_mean_squared_error: 4.9328\n",
            "Epoch 38/1000\n",
            "5/5 [==============================] - 0s 87ms/step - loss: 2.5989 - root_mean_squared_error: 3.1217 - val_loss: 3.4948 - val_root_mean_squared_error: 4.5679\n",
            "Epoch 39/1000\n",
            "5/5 [==============================] - 0s 89ms/step - loss: 2.6867 - root_mean_squared_error: 3.2039 - val_loss: 3.4806 - val_root_mean_squared_error: 4.6205\n",
            "Epoch 40/1000\n",
            "5/5 [==============================] - 0s 62ms/step - loss: 2.6239 - root_mean_squared_error: 3.1892 - val_loss: 3.5214 - val_root_mean_squared_error: 4.7251\n",
            "Epoch 41/1000\n",
            "5/5 [==============================] - 0s 71ms/step - loss: 2.5945 - root_mean_squared_error: 3.1385 - val_loss: 3.4855 - val_root_mean_squared_error: 4.6396\n",
            "Epoch 42/1000\n",
            "5/5 [==============================] - 0s 58ms/step - loss: 2.6008 - root_mean_squared_error: 3.1585 - val_loss: 3.4856 - val_root_mean_squared_error: 4.6446\n",
            "Epoch 43/1000\n",
            "5/5 [==============================] - 0s 64ms/step - loss: 2.5758 - root_mean_squared_error: 3.1377 - val_loss: 3.5010 - val_root_mean_squared_error: 4.6950\n",
            "Epoch 44/1000\n",
            "5/5 [==============================] - 0s 69ms/step - loss: 2.6148 - root_mean_squared_error: 3.1666 - val_loss: 3.4934 - val_root_mean_squared_error: 4.5920\n",
            "Epoch 45/1000\n",
            "5/5 [==============================] - 0s 111ms/step - loss: 2.6600 - root_mean_squared_error: 3.2582 - val_loss: 3.4920 - val_root_mean_squared_error: 4.6673\n",
            "Epoch 46/1000\n",
            "5/5 [==============================] - 0s 86ms/step - loss: 2.6478 - root_mean_squared_error: 3.2071 - val_loss: 3.4829 - val_root_mean_squared_error: 4.6155\n",
            "Epoch 47/1000\n",
            "5/5 [==============================] - 0s 67ms/step - loss: 2.6640 - root_mean_squared_error: 3.2526 - val_loss: 3.5987 - val_root_mean_squared_error: 4.8530\n",
            "Epoch 48/1000\n",
            "5/5 [==============================] - 0s 72ms/step - loss: 2.6355 - root_mean_squared_error: 3.2012 - val_loss: 3.5687 - val_root_mean_squared_error: 4.5230\n",
            "Epoch 49/1000\n",
            "5/5 [==============================] - 0s 63ms/step - loss: 2.7071 - root_mean_squared_error: 3.3420 - val_loss: 3.5685 - val_root_mean_squared_error: 4.8141\n",
            "Epoch 50/1000\n",
            "5/5 [==============================] - 0s 80ms/step - loss: 2.6063 - root_mean_squared_error: 3.1515 - val_loss: 3.5316 - val_root_mean_squared_error: 4.7486\n",
            "Epoch 51/1000\n",
            "5/5 [==============================] - 0s 74ms/step - loss: 2.6237 - root_mean_squared_error: 3.1912 - val_loss: 3.4839 - val_root_mean_squared_error: 4.6104\n",
            "Epoch 52/1000\n",
            "5/5 [==============================] - 0s 66ms/step - loss: 2.5884 - root_mean_squared_error: 3.1492 - val_loss: 3.6405 - val_root_mean_squared_error: 4.9096\n",
            "Epoch 53/1000\n",
            "5/5 [==============================] - 0s 77ms/step - loss: 2.5924 - root_mean_squared_error: 3.1476 - val_loss: 3.5211 - val_root_mean_squared_error: 4.5622\n",
            "Epoch 54/1000\n",
            "5/5 [==============================] - 0s 80ms/step - loss: 2.6049 - root_mean_squared_error: 3.1602 - val_loss: 3.4998 - val_root_mean_squared_error: 4.6906\n",
            "Epoch 55/1000\n",
            "5/5 [==============================] - 0s 61ms/step - loss: 2.5682 - root_mean_squared_error: 3.1342 - val_loss: 3.5301 - val_root_mean_squared_error: 4.7446\n",
            "Epoch 56/1000\n",
            "5/5 [==============================] - 0s 60ms/step - loss: 2.6211 - root_mean_squared_error: 3.1801 - val_loss: 3.4853 - val_root_mean_squared_error: 4.6348\n",
            "Epoch 57/1000\n",
            "5/5 [==============================] - 0s 77ms/step - loss: 2.6088 - root_mean_squared_error: 3.1846 - val_loss: 3.5235 - val_root_mean_squared_error: 4.7310\n",
            "Epoch 58/1000\n",
            "5/5 [==============================] - 0s 68ms/step - loss: 2.5504 - root_mean_squared_error: 3.1201 - val_loss: 3.5113 - val_root_mean_squared_error: 4.5717\n",
            "Epoch 59/1000\n",
            "5/5 [==============================] - 0s 69ms/step - loss: 2.5799 - root_mean_squared_error: 3.1545 - val_loss: 3.5696 - val_root_mean_squared_error: 4.8153\n",
            "Epoch 60/1000\n",
            "5/5 [==============================] - 0s 68ms/step - loss: 2.5850 - root_mean_squared_error: 3.1455 - val_loss: 3.5009 - val_root_mean_squared_error: 4.6887\n",
            "Epoch 61/1000\n",
            "5/5 [==============================] - 0s 49ms/step - loss: 2.6372 - root_mean_squared_error: 3.1845 - val_loss: 3.4821 - val_root_mean_squared_error: 4.6142\n",
            "Epoch 62/1000\n",
            "5/5 [==============================] - 0s 37ms/step - loss: 2.5606 - root_mean_squared_error: 3.1335 - val_loss: 3.5239 - val_root_mean_squared_error: 4.7274\n",
            "Epoch 63/1000\n",
            "5/5 [==============================] - 0s 35ms/step - loss: 2.5779 - root_mean_squared_error: 3.1472 - val_loss: 3.5158 - val_root_mean_squared_error: 4.7111\n",
            "Epoch 64/1000\n",
            "5/5 [==============================] - 0s 36ms/step - loss: 2.5404 - root_mean_squared_error: 3.1043 - val_loss: 3.4839 - val_root_mean_squared_error: 4.6241\n",
            "Epoch 65/1000\n",
            "5/5 [==============================] - 0s 35ms/step - loss: 2.5575 - root_mean_squared_error: 3.1234 - val_loss: 3.5648 - val_root_mean_squared_error: 4.5191\n",
            "Epoch 66/1000\n",
            "5/5 [==============================] - 0s 37ms/step - loss: 2.6106 - root_mean_squared_error: 3.2300 - val_loss: 3.7790 - val_root_mean_squared_error: 5.0753\n",
            "Epoch 67/1000\n",
            "5/5 [==============================] - ETA: 0s - loss: 2.6661 - root_mean_squared_error: 3.2840INFO:tensorflow:Assets written to: model103/assets\n"
          ]
        },
        {
          "output_type": "stream",
          "name": "stderr",
          "text": [
            "INFO:tensorflow:Assets written to: model103/assets\n",
            "WARNING:absl:<keras.layers.recurrent.LSTMCell object at 0x7f96c82b4610> has the same name 'LSTMCell' as a built-in Keras object. Consider renaming <class 'keras.layers.recurrent.LSTMCell'> to avoid naming conflicts when loading with `tf.keras.models.load_model`. If renaming is not possible, pass the object in the `custom_objects` parameter of the load function.\n"
          ]
        },
        {
          "output_type": "stream",
          "name": "stdout",
          "text": [
            "\b\b\b\b\b\b\b\b\b\b\b\b\b\b\b\b\b\b\b\b\b\b\b\b\b\b\b\b\b\b\b\b\b\b\b\b\b\b\b\b\b\b\b\b\b\b\b\b\b\b\b\b\b\b\b\b\b\b\b\b\b\b\b\b\b\b\b\b\b\b\b\b\b\b\b\b\b\b\b\b\b\b\b\b\b\b\b\b\b\b\b\b\b\b\b\r5/5 [==============================] - 3s 840ms/step - loss: 2.6661 - root_mean_squared_error: 3.2840 - val_loss: 3.7655 - val_root_mean_squared_error: 4.4660\n",
            "Epoch 68/1000\n",
            "5/5 [==============================] - 0s 38ms/step - loss: 2.6918 - root_mean_squared_error: 3.3272 - val_loss: 3.6698 - val_root_mean_squared_error: 4.9418\n",
            "Epoch 69/1000\n",
            "5/5 [==============================] - 0s 38ms/step - loss: 2.5747 - root_mean_squared_error: 3.1506 - val_loss: 3.5242 - val_root_mean_squared_error: 4.5431\n",
            "Epoch 70/1000\n",
            "5/5 [==============================] - 0s 39ms/step - loss: 2.5693 - root_mean_squared_error: 3.1422 - val_loss: 3.6303 - val_root_mean_squared_error: 4.8852\n",
            "Epoch 71/1000\n",
            "5/5 [==============================] - 0s 56ms/step - loss: 2.5938 - root_mean_squared_error: 3.1873 - val_loss: 3.6809 - val_root_mean_squared_error: 4.4698\n",
            "Epoch 72/1000\n",
            "5/5 [==============================] - 0s 68ms/step - loss: 2.7028 - root_mean_squared_error: 3.2742 - val_loss: 3.5693 - val_root_mean_squared_error: 4.8033\n",
            "Epoch 73/1000\n",
            "5/5 [==============================] - 0s 53ms/step - loss: 2.6240 - root_mean_squared_error: 3.2385 - val_loss: 3.5112 - val_root_mean_squared_error: 4.5525\n",
            "Epoch 74/1000\n",
            "5/5 [==============================] - 0s 49ms/step - loss: 2.7217 - root_mean_squared_error: 3.3141 - val_loss: 3.5469 - val_root_mean_squared_error: 4.7576\n",
            "Epoch 75/1000\n",
            "5/5 [==============================] - 0s 49ms/step - loss: 2.8426 - root_mean_squared_error: 3.4925 - val_loss: 3.5125 - val_root_mean_squared_error: 4.5484\n",
            "Epoch 76/1000\n",
            "5/5 [==============================] - 0s 68ms/step - loss: 2.7266 - root_mean_squared_error: 3.2867 - val_loss: 3.5403 - val_root_mean_squared_error: 4.7456\n",
            "Epoch 77/1000\n",
            "5/5 [==============================] - 0s 58ms/step - loss: 2.6284 - root_mean_squared_error: 3.2266 - val_loss: 3.4792 - val_root_mean_squared_error: 4.6122\n",
            "Epoch 78/1000\n",
            "5/5 [==============================] - 0s 64ms/step - loss: 2.7396 - root_mean_squared_error: 3.3092 - val_loss: 3.5366 - val_root_mean_squared_error: 4.5214\n",
            "Epoch 79/1000\n",
            "5/5 [==============================] - 0s 50ms/step - loss: 2.8417 - root_mean_squared_error: 3.5109 - val_loss: 3.6653 - val_root_mean_squared_error: 4.9356\n",
            "Epoch 80/1000\n",
            "5/5 [==============================] - 0s 63ms/step - loss: 2.7126 - root_mean_squared_error: 3.3063 - val_loss: 3.5373 - val_root_mean_squared_error: 4.5150\n",
            "Epoch 81/1000\n",
            "5/5 [==============================] - 0s 57ms/step - loss: 2.7106 - root_mean_squared_error: 3.3891 - val_loss: 3.6431 - val_root_mean_squared_error: 4.9046\n",
            "Epoch 82/1000\n",
            "5/5 [==============================] - 0s 50ms/step - loss: 2.6806 - root_mean_squared_error: 3.2469 - val_loss: 3.4857 - val_root_mean_squared_error: 4.6485\n",
            "Epoch 83/1000\n",
            "5/5 [==============================] - 0s 44ms/step - loss: 2.5502 - root_mean_squared_error: 3.1013 - val_loss: 3.4718 - val_root_mean_squared_error: 4.5844\n",
            "Epoch 84/1000\n",
            "5/5 [==============================] - 0s 35ms/step - loss: 2.5055 - root_mean_squared_error: 3.0860 - val_loss: 3.6107 - val_root_mean_squared_error: 4.8603\n",
            "Epoch 85/1000\n",
            "5/5 [==============================] - 0s 35ms/step - loss: 2.5832 - root_mean_squared_error: 3.1575 - val_loss: 3.5576 - val_root_mean_squared_error: 4.4980\n",
            "Epoch 86/1000\n",
            "5/5 [==============================] - 0s 37ms/step - loss: 2.5519 - root_mean_squared_error: 3.1497 - val_loss: 3.7214 - val_root_mean_squared_error: 5.0079\n",
            "Epoch 87/1000\n",
            "5/5 [==============================] - 0s 39ms/step - loss: 2.6724 - root_mean_squared_error: 3.2717 - val_loss: 3.5087 - val_root_mean_squared_error: 4.5311\n",
            "Epoch 88/1000\n",
            "5/5 [==============================] - 0s 36ms/step - loss: 2.6709 - root_mean_squared_error: 3.2701 - val_loss: 3.5344 - val_root_mean_squared_error: 4.7376\n",
            "Epoch 89/1000\n",
            "5/5 [==============================] - 0s 38ms/step - loss: 2.7179 - root_mean_squared_error: 3.3308 - val_loss: 3.5987 - val_root_mean_squared_error: 4.8443\n",
            "Epoch 90/1000\n",
            "5/5 [==============================] - 0s 35ms/step - loss: 2.7398 - root_mean_squared_error: 3.3376 - val_loss: 3.6132 - val_root_mean_squared_error: 4.4689\n",
            "Epoch 91/1000\n",
            "5/5 [==============================] - 0s 37ms/step - loss: 2.7429 - root_mean_squared_error: 3.4112 - val_loss: 3.8456 - val_root_mean_squared_error: 5.1303\n",
            "Epoch 92/1000\n",
            "5/5 [==============================] - 0s 39ms/step - loss: 2.9209 - root_mean_squared_error: 3.6072 - val_loss: 3.5382 - val_root_mean_squared_error: 4.4999\n",
            "Epoch 93/1000\n",
            "5/5 [==============================] - 0s 37ms/step - loss: 2.8223 - root_mean_squared_error: 3.5104 - val_loss: 3.5133 - val_root_mean_squared_error: 4.7016\n",
            "Epoch 94/1000\n",
            "5/5 [==============================] - 0s 38ms/step - loss: 2.5162 - root_mean_squared_error: 3.0733 - val_loss: 3.5813 - val_root_mean_squared_error: 4.8237\n",
            "Epoch 95/1000\n",
            "5/5 [==============================] - ETA: 0s - loss: 2.5207 - root_mean_squared_error: 3.1186INFO:tensorflow:Assets written to: model103/assets\n"
          ]
        },
        {
          "output_type": "stream",
          "name": "stderr",
          "text": [
            "INFO:tensorflow:Assets written to: model103/assets\n",
            "WARNING:absl:<keras.layers.recurrent.LSTMCell object at 0x7f96c82b4610> has the same name 'LSTMCell' as a built-in Keras object. Consider renaming <class 'keras.layers.recurrent.LSTMCell'> to avoid naming conflicts when loading with `tf.keras.models.load_model`. If renaming is not possible, pass the object in the `custom_objects` parameter of the load function.\n"
          ]
        },
        {
          "output_type": "stream",
          "name": "stdout",
          "text": [
            "\b\b\b\b\b\b\b\b\b\b\b\b\b\b\b\b\b\b\b\b\b\b\b\b\b\b\b\b\b\b\b\b\b\b\b\b\b\b\b\b\b\b\b\b\b\b\b\b\b\b\b\b\b\b\b\b\b\b\b\b\b\b\b\b\b\b\b\b\b\b\b\b\b\b\b\b\b\b\b\b\b\b\b\b\b\b\b\b\b\b\b\b\b\b\b\r5/5 [==============================] - 3s 746ms/step - loss: 2.5207 - root_mean_squared_error: 3.1186 - val_loss: 3.6191 - val_root_mean_squared_error: 4.4630\n",
            "Epoch 96/1000\n",
            "5/5 [==============================] - 0s 39ms/step - loss: 2.5818 - root_mean_squared_error: 3.1611 - val_loss: 3.5852 - val_root_mean_squared_error: 4.8297\n",
            "Epoch 97/1000\n",
            "5/5 [==============================] - 0s 37ms/step - loss: 2.5560 - root_mean_squared_error: 3.1284 - val_loss: 3.4773 - val_root_mean_squared_error: 4.6420\n",
            "Epoch 98/1000\n",
            "5/5 [==============================] - 0s 33ms/step - loss: 2.4868 - root_mean_squared_error: 3.0619 - val_loss: 3.6302 - val_root_mean_squared_error: 4.8936\n",
            "Epoch 99/1000\n",
            "5/5 [==============================] - 0s 35ms/step - loss: 2.6347 - root_mean_squared_error: 3.1862 - val_loss: 3.4797 - val_root_mean_squared_error: 4.5444\n",
            "Epoch 100/1000\n",
            "5/5 [==============================] - 0s 36ms/step - loss: 2.6082 - root_mean_squared_error: 3.1309 - val_loss: 3.4773 - val_root_mean_squared_error: 4.6459\n",
            "Epoch 101/1000\n",
            "5/5 [==============================] - 0s 45ms/step - loss: 2.5354 - root_mean_squared_error: 3.1347 - val_loss: 3.4694 - val_root_mean_squared_error: 4.5540\n",
            "Epoch 102/1000\n",
            "5/5 [==============================] - 0s 57ms/step - loss: 2.5594 - root_mean_squared_error: 3.1388 - val_loss: 3.4829 - val_root_mean_squared_error: 4.5362\n",
            "Epoch 103/1000\n",
            "5/5 [==============================] - 0s 51ms/step - loss: 2.5350 - root_mean_squared_error: 3.1055 - val_loss: 3.4762 - val_root_mean_squared_error: 4.6477\n",
            "Epoch 104/1000\n",
            "5/5 [==============================] - 0s 37ms/step - loss: 2.5444 - root_mean_squared_error: 3.1230 - val_loss: 3.4913 - val_root_mean_squared_error: 4.5239\n",
            "Epoch 105/1000\n",
            "5/5 [==============================] - 0s 39ms/step - loss: 2.5536 - root_mean_squared_error: 3.1275 - val_loss: 3.5880 - val_root_mean_squared_error: 4.8419\n",
            "Epoch 106/1000\n",
            "5/5 [==============================] - ETA: 0s - loss: 2.4519 - root_mean_squared_error: 3.0262INFO:tensorflow:Assets written to: model103/assets\n"
          ]
        },
        {
          "output_type": "stream",
          "name": "stderr",
          "text": [
            "INFO:tensorflow:Assets written to: model103/assets\n",
            "WARNING:absl:<keras.layers.recurrent.LSTMCell object at 0x7f96c82b4610> has the same name 'LSTMCell' as a built-in Keras object. Consider renaming <class 'keras.layers.recurrent.LSTMCell'> to avoid naming conflicts when loading with `tf.keras.models.load_model`. If renaming is not possible, pass the object in the `custom_objects` parameter of the load function.\n"
          ]
        },
        {
          "output_type": "stream",
          "name": "stdout",
          "text": [
            "\b\b\b\b\b\b\b\b\b\b\b\b\b\b\b\b\b\b\b\b\b\b\b\b\b\b\b\b\b\b\b\b\b\b\b\b\b\b\b\b\b\b\b\b\b\b\b\b\b\b\b\b\b\b\b\b\b\b\b\b\b\b\b\b\b\b\b\b\b\b\b\b\b\b\b\b\b\b\b\b\b\b\b\b\b\b\b\b\b\b\b\b\b\b\b\r5/5 [==============================] - 5s 1s/step - loss: 2.4519 - root_mean_squared_error: 3.0262 - val_loss: 3.6183 - val_root_mean_squared_error: 4.4534\n",
            "Epoch 107/1000\n",
            "5/5 [==============================] - 0s 35ms/step - loss: 2.6488 - root_mean_squared_error: 3.2080 - val_loss: 3.6179 - val_root_mean_squared_error: 4.8847\n",
            "Epoch 108/1000\n",
            "5/5 [==============================] - ETA: 0s - loss: 2.4639 - root_mean_squared_error: 3.0535INFO:tensorflow:Assets written to: model103/assets\n"
          ]
        },
        {
          "output_type": "stream",
          "name": "stderr",
          "text": [
            "INFO:tensorflow:Assets written to: model103/assets\n",
            "WARNING:absl:<keras.layers.recurrent.LSTMCell object at 0x7f96c82b4610> has the same name 'LSTMCell' as a built-in Keras object. Consider renaming <class 'keras.layers.recurrent.LSTMCell'> to avoid naming conflicts when loading with `tf.keras.models.load_model`. If renaming is not possible, pass the object in the `custom_objects` parameter of the load function.\n"
          ]
        },
        {
          "output_type": "stream",
          "name": "stdout",
          "text": [
            "\b\b\b\b\b\b\b\b\b\b\b\b\b\b\b\b\b\b\b\b\b\b\b\b\b\b\b\b\b\b\b\b\b\b\b\b\b\b\b\b\b\b\b\b\b\b\b\b\b\b\b\b\b\b\b\b\b\b\b\b\b\b\b\b\b\b\b\b\b\b\b\b\b\b\b\b\b\b\b\b\b\b\b\b\b\b\b\b\b\b\b\b\b\b\b\r5/5 [==============================] - 3s 747ms/step - loss: 2.4639 - root_mean_squared_error: 3.0535 - val_loss: 3.6538 - val_root_mean_squared_error: 4.4436\n",
            "Epoch 109/1000\n",
            "5/5 [==============================] - 0s 35ms/step - loss: 2.5672 - root_mean_squared_error: 3.1994 - val_loss: 3.8082 - val_root_mean_squared_error: 5.1005\n",
            "Epoch 110/1000\n",
            "5/5 [==============================] - ETA: 0s - loss: 2.5439 - root_mean_squared_error: 3.1094INFO:tensorflow:Assets written to: model103/assets\n"
          ]
        },
        {
          "output_type": "stream",
          "name": "stderr",
          "text": [
            "INFO:tensorflow:Assets written to: model103/assets\n",
            "WARNING:absl:<keras.layers.recurrent.LSTMCell object at 0x7f96c82b4610> has the same name 'LSTMCell' as a built-in Keras object. Consider renaming <class 'keras.layers.recurrent.LSTMCell'> to avoid naming conflicts when loading with `tf.keras.models.load_model`. If renaming is not possible, pass the object in the `custom_objects` parameter of the load function.\n"
          ]
        },
        {
          "output_type": "stream",
          "name": "stdout",
          "text": [
            "\b\b\b\b\b\b\b\b\b\b\b\b\b\b\b\b\b\b\b\b\b\b\b\b\b\b\b\b\b\b\b\b\b\b\b\b\b\b\b\b\b\b\b\b\b\b\b\b\b\b\b\b\b\b\b\b\b\b\b\b\b\b\b\b\b\b\b\b\b\b\b\b\b\b\b\b\b\b\b\b\b\b\b\b\b\b\b\b\b\b\b\b\b\b\b\r5/5 [==============================] - 3s 845ms/step - loss: 2.5439 - root_mean_squared_error: 3.1094 - val_loss: 3.6516 - val_root_mean_squared_error: 4.4428\n",
            "Epoch 111/1000\n",
            "5/5 [==============================] - 0s 35ms/step - loss: 2.6632 - root_mean_squared_error: 3.3139 - val_loss: 4.2531 - val_root_mean_squared_error: 5.5203\n",
            "Epoch 112/1000\n",
            "5/5 [==============================] - ETA: 0s - loss: 2.7541 - root_mean_squared_error: 3.3173INFO:tensorflow:Assets written to: model103/assets\n"
          ]
        },
        {
          "output_type": "stream",
          "name": "stderr",
          "text": [
            "INFO:tensorflow:Assets written to: model103/assets\n",
            "WARNING:absl:<keras.layers.recurrent.LSTMCell object at 0x7f96c82b4610> has the same name 'LSTMCell' as a built-in Keras object. Consider renaming <class 'keras.layers.recurrent.LSTMCell'> to avoid naming conflicts when loading with `tf.keras.models.load_model`. If renaming is not possible, pass the object in the `custom_objects` parameter of the load function.\n"
          ]
        },
        {
          "output_type": "stream",
          "name": "stdout",
          "text": [
            "\b\b\b\b\b\b\b\b\b\b\b\b\b\b\b\b\b\b\b\b\b\b\b\b\b\b\b\b\b\b\b\b\b\b\b\b\b\b\b\b\b\b\b\b\b\b\b\b\b\b\b\b\b\b\b\b\b\b\b\b\b\b\b\b\b\b\b\b\b\b\b\b\b\b\b\b\b\b\b\b\b\b\b\b\b\b\b\b\b\b\b\b\b\b\b\r5/5 [==============================] - 3s 762ms/step - loss: 2.7541 - root_mean_squared_error: 3.3173 - val_loss: 3.7773 - val_root_mean_squared_error: 4.4368\n",
            "Epoch 113/1000\n",
            "5/5 [==============================] - 0s 35ms/step - loss: 2.7438 - root_mean_squared_error: 3.3744 - val_loss: 4.0726 - val_root_mean_squared_error: 5.3588\n",
            "Epoch 114/1000\n",
            "5/5 [==============================] - 0s 34ms/step - loss: 2.7470 - root_mean_squared_error: 3.3834 - val_loss: 3.6331 - val_root_mean_squared_error: 4.4482\n",
            "Epoch 115/1000\n",
            "5/5 [==============================] - 0s 34ms/step - loss: 2.5710 - root_mean_squared_error: 3.1587 - val_loss: 3.4499 - val_root_mean_squared_error: 4.5720\n",
            "Epoch 116/1000\n",
            "5/5 [==============================] - 0s 35ms/step - loss: 2.5710 - root_mean_squared_error: 3.1323 - val_loss: 3.6574 - val_root_mean_squared_error: 4.4438\n",
            "Epoch 117/1000\n",
            "5/5 [==============================] - 0s 41ms/step - loss: 2.5878 - root_mean_squared_error: 3.2455 - val_loss: 3.6763 - val_root_mean_squared_error: 4.9591\n",
            "Epoch 118/1000\n",
            "5/5 [==============================] - 0s 37ms/step - loss: 2.5286 - root_mean_squared_error: 3.1191 - val_loss: 3.6103 - val_root_mean_squared_error: 4.4548\n",
            "Epoch 119/1000\n",
            "5/5 [==============================] - 0s 36ms/step - loss: 2.5129 - root_mean_squared_error: 3.1385 - val_loss: 3.5935 - val_root_mean_squared_error: 4.8524\n",
            "Epoch 120/1000\n",
            "5/5 [==============================] - 0s 37ms/step - loss: 2.5057 - root_mean_squared_error: 3.0739 - val_loss: 3.5243 - val_root_mean_squared_error: 4.4880\n",
            "Epoch 121/1000\n",
            "5/5 [==============================] - 0s 37ms/step - loss: 2.5120 - root_mean_squared_error: 3.0847 - val_loss: 3.6228 - val_root_mean_squared_error: 4.8966\n",
            "Epoch 122/1000\n",
            "5/5 [==============================] - 0s 38ms/step - loss: 2.5370 - root_mean_squared_error: 3.1491 - val_loss: 3.5601 - val_root_mean_squared_error: 4.4693\n",
            "Epoch 123/1000\n",
            "5/5 [==============================] - 0s 36ms/step - loss: 2.6102 - root_mean_squared_error: 3.1969 - val_loss: 3.5338 - val_root_mean_squared_error: 4.4804\n",
            "Epoch 124/1000\n",
            "5/5 [==============================] - 0s 39ms/step - loss: 2.5245 - root_mean_squared_error: 3.1167 - val_loss: 3.6531 - val_root_mean_squared_error: 4.9358\n",
            "Epoch 125/1000\n",
            "5/5 [==============================] - 0s 34ms/step - loss: 2.4275 - root_mean_squared_error: 3.0208 - val_loss: 3.8015 - val_root_mean_squared_error: 4.4378\n",
            "Epoch 126/1000\n",
            "5/5 [==============================] - 0s 38ms/step - loss: 2.5989 - root_mean_squared_error: 3.2221 - val_loss: 3.9585 - val_root_mean_squared_error: 5.2529\n",
            "Epoch 127/1000\n",
            "5/5 [==============================] - ETA: 0s - loss: 2.5334 - root_mean_squared_error: 3.1482INFO:tensorflow:Assets written to: model103/assets\n"
          ]
        },
        {
          "output_type": "stream",
          "name": "stderr",
          "text": [
            "INFO:tensorflow:Assets written to: model103/assets\n",
            "WARNING:absl:<keras.layers.recurrent.LSTMCell object at 0x7f96c82b4610> has the same name 'LSTMCell' as a built-in Keras object. Consider renaming <class 'keras.layers.recurrent.LSTMCell'> to avoid naming conflicts when loading with `tf.keras.models.load_model`. If renaming is not possible, pass the object in the `custom_objects` parameter of the load function.\n"
          ]
        },
        {
          "output_type": "stream",
          "name": "stdout",
          "text": [
            "\b\b\b\b\b\b\b\b\b\b\b\b\b\b\b\b\b\b\b\b\b\b\b\b\b\b\b\b\b\b\b\b\b\b\b\b\b\b\b\b\b\b\b\b\b\b\b\b\b\b\b\b\b\b\b\b\b\b\b\b\b\b\b\b\b\b\b\b\b\b\b\b\b\b\b\b\b\b\b\b\b\b\b\b\b\b\b\b\b\b\b\b\b\b\b\r5/5 [==============================] - 3s 841ms/step - loss: 2.5334 - root_mean_squared_error: 3.1482 - val_loss: 3.7768 - val_root_mean_squared_error: 4.4329\n",
            "Epoch 128/1000\n",
            "5/5 [==============================] - 0s 37ms/step - loss: 2.6124 - root_mean_squared_error: 3.1758 - val_loss: 3.5073 - val_root_mean_squared_error: 4.7187\n",
            "Epoch 129/1000\n",
            "5/5 [==============================] - 0s 37ms/step - loss: 2.5181 - root_mean_squared_error: 3.1093 - val_loss: 3.5322 - val_root_mean_squared_error: 4.7706\n",
            "Epoch 130/1000\n",
            "5/5 [==============================] - 0s 35ms/step - loss: 2.6368 - root_mean_squared_error: 3.2264 - val_loss: 3.7930 - val_root_mean_squared_error: 4.4346\n",
            "Epoch 131/1000\n",
            "5/5 [==============================] - 0s 36ms/step - loss: 2.8038 - root_mean_squared_error: 3.4599 - val_loss: 3.8333 - val_root_mean_squared_error: 5.1306\n",
            "Epoch 132/1000\n",
            "5/5 [==============================] - 0s 36ms/step - loss: 2.5894 - root_mean_squared_error: 3.2081 - val_loss: 3.4996 - val_root_mean_squared_error: 4.4945\n",
            "Epoch 133/1000\n",
            "5/5 [==============================] - 0s 35ms/step - loss: 2.6506 - root_mean_squared_error: 3.2782 - val_loss: 3.4402 - val_root_mean_squared_error: 4.5946\n",
            "Epoch 134/1000\n",
            "5/5 [==============================] - 0s 37ms/step - loss: 2.4924 - root_mean_squared_error: 3.0626 - val_loss: 3.4604 - val_root_mean_squared_error: 4.5295\n",
            "Epoch 135/1000\n",
            "5/5 [==============================] - 0s 36ms/step - loss: 2.4719 - root_mean_squared_error: 3.0624 - val_loss: 3.4781 - val_root_mean_squared_error: 4.6725\n",
            "Epoch 136/1000\n",
            "5/5 [==============================] - 0s 36ms/step - loss: 2.4474 - root_mean_squared_error: 3.0356 - val_loss: 3.4709 - val_root_mean_squared_error: 4.6626\n",
            "Epoch 137/1000\n",
            "5/5 [==============================] - 0s 35ms/step - loss: 2.4908 - root_mean_squared_error: 3.0691 - val_loss: 3.4723 - val_root_mean_squared_error: 4.5106\n",
            "Epoch 138/1000\n",
            "5/5 [==============================] - 0s 37ms/step - loss: 2.4003 - root_mean_squared_error: 2.9907 - val_loss: 3.5147 - val_root_mean_squared_error: 4.7542\n",
            "Epoch 139/1000\n",
            "5/5 [==============================] - ETA: 0s - loss: 2.5040 - root_mean_squared_error: 3.0749INFO:tensorflow:Assets written to: model103/assets\n"
          ]
        },
        {
          "output_type": "stream",
          "name": "stderr",
          "text": [
            "INFO:tensorflow:Assets written to: model103/assets\n",
            "WARNING:absl:<keras.layers.recurrent.LSTMCell object at 0x7f96c82b4610> has the same name 'LSTMCell' as a built-in Keras object. Consider renaming <class 'keras.layers.recurrent.LSTMCell'> to avoid naming conflicts when loading with `tf.keras.models.load_model`. If renaming is not possible, pass the object in the `custom_objects` parameter of the load function.\n"
          ]
        },
        {
          "output_type": "stream",
          "name": "stdout",
          "text": [
            "\b\b\b\b\b\b\b\b\b\b\b\b\b\b\b\b\b\b\b\b\b\b\b\b\b\b\b\b\b\b\b\b\b\b\b\b\b\b\b\b\b\b\b\b\b\b\b\b\b\b\b\b\b\b\b\b\b\b\b\b\b\b\b\b\b\b\b\b\b\b\b\b\b\b\b\b\b\b\b\b\b\b\b\b\b\b\b\b\b\b\b\b\b\b\b\r5/5 [==============================] - 3s 758ms/step - loss: 2.5040 - root_mean_squared_error: 3.0749 - val_loss: 3.6518 - val_root_mean_squared_error: 4.4285\n",
            "Epoch 140/1000\n",
            "5/5 [==============================] - 0s 37ms/step - loss: 2.4444 - root_mean_squared_error: 3.0515 - val_loss: 3.8480 - val_root_mean_squared_error: 5.1513\n",
            "Epoch 141/1000\n",
            "5/5 [==============================] - 0s 36ms/step - loss: 2.6660 - root_mean_squared_error: 3.2655 - val_loss: 3.8120 - val_root_mean_squared_error: 4.4330\n",
            "Epoch 142/1000\n",
            "5/5 [==============================] - 0s 35ms/step - loss: 2.6357 - root_mean_squared_error: 3.2570 - val_loss: 3.7090 - val_root_mean_squared_error: 5.0022\n",
            "Epoch 143/1000\n",
            "5/5 [==============================] - 0s 34ms/step - loss: 2.7708 - root_mean_squared_error: 3.4132 - val_loss: 3.5015 - val_root_mean_squared_error: 4.4860\n",
            "Epoch 144/1000\n",
            "5/5 [==============================] - 0s 37ms/step - loss: 2.6283 - root_mean_squared_error: 3.2718 - val_loss: 3.4623 - val_root_mean_squared_error: 4.5213\n",
            "Epoch 145/1000\n",
            "5/5 [==============================] - 0s 39ms/step - loss: 2.5557 - root_mean_squared_error: 3.1824 - val_loss: 3.6170 - val_root_mean_squared_error: 4.8991\n",
            "Epoch 146/1000\n",
            "5/5 [==============================] - 0s 35ms/step - loss: 2.4340 - root_mean_squared_error: 3.0481 - val_loss: 3.6486 - val_root_mean_squared_error: 4.4343\n",
            "Epoch 147/1000\n",
            "5/5 [==============================] - 0s 34ms/step - loss: 2.4478 - root_mean_squared_error: 3.0619 - val_loss: 3.9198 - val_root_mean_squared_error: 5.2215\n",
            "Epoch 148/1000\n",
            "5/5 [==============================] - ETA: 0s - loss: 2.4985 - root_mean_squared_error: 3.1490INFO:tensorflow:Assets written to: model103/assets\n"
          ]
        },
        {
          "output_type": "stream",
          "name": "stderr",
          "text": [
            "INFO:tensorflow:Assets written to: model103/assets\n",
            "WARNING:absl:<keras.layers.recurrent.LSTMCell object at 0x7f96c82b4610> has the same name 'LSTMCell' as a built-in Keras object. Consider renaming <class 'keras.layers.recurrent.LSTMCell'> to avoid naming conflicts when loading with `tf.keras.models.load_model`. If renaming is not possible, pass the object in the `custom_objects` parameter of the load function.\n"
          ]
        },
        {
          "output_type": "stream",
          "name": "stdout",
          "text": [
            "\b\b\b\b\b\b\b\b\b\b\b\b\b\b\b\b\b\b\b\b\b\b\b\b\b\b\b\b\b\b\b\b\b\b\b\b\b\b\b\b\b\b\b\b\b\b\b\b\b\b\b\b\b\b\b\b\b\b\b\b\b\b\b\b\b\b\b\b\b\b\b\b\b\b\b\b\b\b\b\b\b\b\b\b\b\b\b\b\b\b\b\b\b\b\b\r5/5 [==============================] - 3s 842ms/step - loss: 2.4985 - root_mean_squared_error: 3.1490 - val_loss: 3.7316 - val_root_mean_squared_error: 4.4255\n",
            "Epoch 149/1000\n",
            "5/5 [==============================] - 0s 37ms/step - loss: 2.5605 - root_mean_squared_error: 3.1692 - val_loss: 3.5982 - val_root_mean_squared_error: 4.8776\n",
            "Epoch 150/1000\n",
            "5/5 [==============================] - 0s 38ms/step - loss: 2.5222 - root_mean_squared_error: 3.1333 - val_loss: 3.7725 - val_root_mean_squared_error: 4.4277\n",
            "Epoch 151/1000\n",
            "5/5 [==============================] - 0s 37ms/step - loss: 2.5175 - root_mean_squared_error: 3.1139 - val_loss: 3.5851 - val_root_mean_squared_error: 4.8623\n",
            "Epoch 152/1000\n",
            "5/5 [==============================] - 0s 38ms/step - loss: 2.3974 - root_mean_squared_error: 2.9991 - val_loss: 3.6189 - val_root_mean_squared_error: 4.4346\n",
            "Epoch 153/1000\n",
            "5/5 [==============================] - 0s 38ms/step - loss: 2.4969 - root_mean_squared_error: 3.1141 - val_loss: 3.4585 - val_root_mean_squared_error: 4.5123\n",
            "Epoch 154/1000\n",
            "5/5 [==============================] - 0s 38ms/step - loss: 2.4937 - root_mean_squared_error: 3.0742 - val_loss: 3.7542 - val_root_mean_squared_error: 5.0571\n",
            "Epoch 155/1000\n",
            "5/5 [==============================] - ETA: 0s - loss: 2.6494 - root_mean_squared_error: 3.3048INFO:tensorflow:Assets written to: model103/assets\n"
          ]
        },
        {
          "output_type": "stream",
          "name": "stderr",
          "text": [
            "INFO:tensorflow:Assets written to: model103/assets\n",
            "WARNING:absl:<keras.layers.recurrent.LSTMCell object at 0x7f96c82b4610> has the same name 'LSTMCell' as a built-in Keras object. Consider renaming <class 'keras.layers.recurrent.LSTMCell'> to avoid naming conflicts when loading with `tf.keras.models.load_model`. If renaming is not possible, pass the object in the `custom_objects` parameter of the load function.\n"
          ]
        },
        {
          "output_type": "stream",
          "name": "stdout",
          "text": [
            "\b\b\b\b\b\b\b\b\b\b\b\b\b\b\b\b\b\b\b\b\b\b\b\b\b\b\b\b\b\b\b\b\b\b\b\b\b\b\b\b\b\b\b\b\b\b\b\b\b\b\b\b\b\b\b\b\b\b\b\b\b\b\b\b\b\b\b\b\b\b\b\b\b\b\b\b\b\b\b\b\b\b\b\b\b\b\b\b\b\b\b\b\b\b\b\r5/5 [==============================] - 3s 765ms/step - loss: 2.6494 - root_mean_squared_error: 3.3048 - val_loss: 3.7648 - val_root_mean_squared_error: 4.4240\n",
            "Epoch 156/1000\n",
            "5/5 [==============================] - 0s 40ms/step - loss: 2.6123 - root_mean_squared_error: 3.2213 - val_loss: 3.7193 - val_root_mean_squared_error: 5.0133\n",
            "Epoch 157/1000\n",
            "5/5 [==============================] - 0s 36ms/step - loss: 2.4410 - root_mean_squared_error: 2.9960 - val_loss: 3.6197 - val_root_mean_squared_error: 4.4355\n",
            "Epoch 158/1000\n",
            "5/5 [==============================] - 0s 37ms/step - loss: 2.5349 - root_mean_squared_error: 3.1966 - val_loss: 3.5914 - val_root_mean_squared_error: 4.8711\n",
            "Epoch 159/1000\n",
            "5/5 [==============================] - 0s 34ms/step - loss: 2.4582 - root_mean_squared_error: 3.0483 - val_loss: 3.4221 - val_root_mean_squared_error: 4.5583\n",
            "Epoch 160/1000\n",
            "5/5 [==============================] - 0s 36ms/step - loss: 2.4452 - root_mean_squared_error: 3.0563 - val_loss: 3.6334 - val_root_mean_squared_error: 4.4280\n",
            "Epoch 161/1000\n",
            "5/5 [==============================] - 0s 37ms/step - loss: 2.5169 - root_mean_squared_error: 3.1282 - val_loss: 3.4360 - val_root_mean_squared_error: 4.5311\n",
            "Epoch 162/1000\n",
            "5/5 [==============================] - 0s 45ms/step - loss: 2.4139 - root_mean_squared_error: 3.0038 - val_loss: 3.6283 - val_root_mean_squared_error: 4.9137\n",
            "Epoch 163/1000\n",
            "5/5 [==============================] - 0s 36ms/step - loss: 2.4932 - root_mean_squared_error: 3.1009 - val_loss: 3.4398 - val_root_mean_squared_error: 4.6287\n",
            "Epoch 164/1000\n",
            "5/5 [==============================] - 0s 37ms/step - loss: 2.3848 - root_mean_squared_error: 2.9943 - val_loss: 3.4829 - val_root_mean_squared_error: 4.7126\n",
            "Epoch 165/1000\n",
            "5/5 [==============================] - 0s 37ms/step - loss: 2.4147 - root_mean_squared_error: 3.0074 - val_loss: 3.5666 - val_root_mean_squared_error: 4.8505\n",
            "Epoch 166/1000\n",
            "5/5 [==============================] - ETA: 0s - loss: 2.4099 - root_mean_squared_error: 3.0260INFO:tensorflow:Assets written to: model103/assets\n"
          ]
        },
        {
          "output_type": "stream",
          "name": "stderr",
          "text": [
            "INFO:tensorflow:Assets written to: model103/assets\n",
            "WARNING:absl:<keras.layers.recurrent.LSTMCell object at 0x7f96c82b4610> has the same name 'LSTMCell' as a built-in Keras object. Consider renaming <class 'keras.layers.recurrent.LSTMCell'> to avoid naming conflicts when loading with `tf.keras.models.load_model`. If renaming is not possible, pass the object in the `custom_objects` parameter of the load function.\n"
          ]
        },
        {
          "output_type": "stream",
          "name": "stdout",
          "text": [
            "\b\b\b\b\b\b\b\b\b\b\b\b\b\b\b\b\b\b\b\b\b\b\b\b\b\b\b\b\b\b\b\b\b\b\b\b\b\b\b\b\b\b\b\b\b\b\b\b\b\b\b\b\b\b\b\b\b\b\b\b\b\b\b\b\b\b\b\b\b\b\b\b\b\b\b\b\b\b\b\b\b\b\b\b\b\b\b\b\b\b\b\b\b\b\b\r5/5 [==============================] - 3s 762ms/step - loss: 2.4099 - root_mean_squared_error: 3.0260 - val_loss: 3.6681 - val_root_mean_squared_error: 4.4149\n",
            "Epoch 167/1000\n",
            "5/5 [==============================] - 0s 37ms/step - loss: 2.4562 - root_mean_squared_error: 3.1522 - val_loss: 3.7003 - val_root_mean_squared_error: 4.9972\n",
            "Epoch 168/1000\n",
            "5/5 [==============================] - 0s 36ms/step - loss: 2.5704 - root_mean_squared_error: 3.1358 - val_loss: 3.4167 - val_root_mean_squared_error: 4.6001\n",
            "Epoch 169/1000\n",
            "5/5 [==============================] - 0s 36ms/step - loss: 2.3481 - root_mean_squared_error: 2.9663 - val_loss: 3.4133 - val_root_mean_squared_error: 4.5468\n",
            "Epoch 170/1000\n",
            "5/5 [==============================] - 0s 34ms/step - loss: 2.4169 - root_mean_squared_error: 2.9943 - val_loss: 3.4088 - val_root_mean_squared_error: 4.5841\n",
            "Epoch 171/1000\n",
            "5/5 [==============================] - 0s 37ms/step - loss: 2.4400 - root_mean_squared_error: 3.0737 - val_loss: 3.4296 - val_root_mean_squared_error: 4.6234\n",
            "Epoch 172/1000\n",
            "5/5 [==============================] - 0s 38ms/step - loss: 2.4029 - root_mean_squared_error: 3.0160 - val_loss: 3.5117 - val_root_mean_squared_error: 4.7818\n",
            "Epoch 173/1000\n",
            "5/5 [==============================] - 0s 39ms/step - loss: 2.5448 - root_mean_squared_error: 3.1683 - val_loss: 4.0439 - val_root_mean_squared_error: 4.5577\n",
            "Epoch 174/1000\n",
            "5/5 [==============================] - 0s 37ms/step - loss: 2.7616 - root_mean_squared_error: 3.3599 - val_loss: 4.1204 - val_root_mean_squared_error: 5.4057\n",
            "Epoch 175/1000\n",
            "5/5 [==============================] - 0s 36ms/step - loss: 2.7087 - root_mean_squared_error: 3.3948 - val_loss: 3.4265 - val_root_mean_squared_error: 4.5411\n",
            "Epoch 176/1000\n",
            "5/5 [==============================] - 0s 39ms/step - loss: 2.4055 - root_mean_squared_error: 2.9916 - val_loss: 3.5825 - val_root_mean_squared_error: 4.4455\n",
            "Epoch 177/1000\n",
            "5/5 [==============================] - 0s 37ms/step - loss: 2.3755 - root_mean_squared_error: 3.0105 - val_loss: 3.7911 - val_root_mean_squared_error: 5.0991\n",
            "Epoch 178/1000\n",
            "5/5 [==============================] - 0s 58ms/step - loss: 2.5435 - root_mean_squared_error: 3.0938 - val_loss: 3.9074 - val_root_mean_squared_error: 4.4673\n",
            "Epoch 179/1000\n",
            "5/5 [==============================] - 0s 87ms/step - loss: 2.5165 - root_mean_squared_error: 3.1890 - val_loss: 3.7102 - val_root_mean_squared_error: 5.0054\n",
            "Epoch 180/1000\n",
            "5/5 [==============================] - 0s 70ms/step - loss: 2.4476 - root_mean_squared_error: 3.0401 - val_loss: 3.5426 - val_root_mean_squared_error: 4.4537\n",
            "Epoch 181/1000\n",
            "5/5 [==============================] - 0s 59ms/step - loss: 2.2986 - root_mean_squared_error: 2.9178 - val_loss: 4.1144 - val_root_mean_squared_error: 5.4000\n",
            "Epoch 182/1000\n",
            "5/5 [==============================] - 0s 37ms/step - loss: 2.6370 - root_mean_squared_error: 3.2444 - val_loss: 3.7532 - val_root_mean_squared_error: 4.4155\n",
            "Epoch 183/1000\n",
            "5/5 [==============================] - 0s 35ms/step - loss: 2.3886 - root_mean_squared_error: 3.0075 - val_loss: 3.5747 - val_root_mean_squared_error: 4.8603\n",
            "Epoch 184/1000\n",
            "5/5 [==============================] - 0s 36ms/step - loss: 2.3666 - root_mean_squared_error: 2.9969 - val_loss: 3.4165 - val_root_mean_squared_error: 4.5291\n",
            "Epoch 185/1000\n",
            "5/5 [==============================] - 0s 36ms/step - loss: 2.3699 - root_mean_squared_error: 2.9989 - val_loss: 3.6091 - val_root_mean_squared_error: 4.4207\n",
            "Epoch 186/1000\n",
            "5/5 [==============================] - 0s 37ms/step - loss: 2.3829 - root_mean_squared_error: 3.0612 - val_loss: 3.4658 - val_root_mean_squared_error: 4.4808\n",
            "Epoch 187/1000\n",
            "5/5 [==============================] - 0s 38ms/step - loss: 2.3682 - root_mean_squared_error: 2.9626 - val_loss: 3.4829 - val_root_mean_squared_error: 4.7368\n",
            "Epoch 188/1000\n",
            "5/5 [==============================] - 0s 35ms/step - loss: 2.3616 - root_mean_squared_error: 3.0236 - val_loss: 3.8496 - val_root_mean_squared_error: 4.4341\n",
            "Epoch 189/1000\n",
            "5/5 [==============================] - 0s 37ms/step - loss: 2.5398 - root_mean_squared_error: 3.2109 - val_loss: 3.4518 - val_root_mean_squared_error: 4.6758\n",
            "Epoch 190/1000\n",
            "5/5 [==============================] - 0s 37ms/step - loss: 2.3416 - root_mean_squared_error: 2.9848 - val_loss: 3.3957 - val_root_mean_squared_error: 4.5445\n",
            "Epoch 191/1000\n",
            "5/5 [==============================] - 0s 36ms/step - loss: 2.4069 - root_mean_squared_error: 3.0376 - val_loss: 3.5674 - val_root_mean_squared_error: 4.4300\n",
            "Epoch 192/1000\n",
            "5/5 [==============================] - 0s 40ms/step - loss: 2.3590 - root_mean_squared_error: 2.9523 - val_loss: 3.4489 - val_root_mean_squared_error: 4.4885\n",
            "Epoch 193/1000\n",
            "5/5 [==============================] - 0s 36ms/step - loss: 2.3659 - root_mean_squared_error: 2.9681 - val_loss: 3.6543 - val_root_mean_squared_error: 4.9487\n",
            "Epoch 194/1000\n",
            "5/5 [==============================] - 0s 35ms/step - loss: 2.4972 - root_mean_squared_error: 3.1259 - val_loss: 3.4773 - val_root_mean_squared_error: 4.7343\n",
            "Epoch 195/1000\n",
            "5/5 [==============================] - 0s 39ms/step - loss: 2.3097 - root_mean_squared_error: 2.8915 - val_loss: 3.9346 - val_root_mean_squared_error: 4.4759\n",
            "Epoch 196/1000\n",
            "5/5 [==============================] - 0s 38ms/step - loss: 2.7424 - root_mean_squared_error: 3.4093 - val_loss: 3.4885 - val_root_mean_squared_error: 4.7589\n",
            "Epoch 197/1000\n",
            "5/5 [==============================] - 0s 39ms/step - loss: 2.4168 - root_mean_squared_error: 2.9654 - val_loss: 3.4148 - val_root_mean_squared_error: 4.5153\n",
            "Epoch 198/1000\n",
            "5/5 [==============================] - 0s 36ms/step - loss: 2.2822 - root_mean_squared_error: 2.9127 - val_loss: 3.5303 - val_root_mean_squared_error: 4.8196\n",
            "Epoch 199/1000\n",
            "5/5 [==============================] - 0s 37ms/step - loss: 2.3204 - root_mean_squared_error: 2.9447 - val_loss: 3.4534 - val_root_mean_squared_error: 4.4827\n",
            "Epoch 200/1000\n",
            "5/5 [==============================] - 0s 36ms/step - loss: 2.3107 - root_mean_squared_error: 2.9386 - val_loss: 3.4081 - val_root_mean_squared_error: 4.5105\n",
            "Epoch 201/1000\n",
            "5/5 [==============================] - 0s 43ms/step - loss: 2.3336 - root_mean_squared_error: 2.9656 - val_loss: 3.7423 - val_root_mean_squared_error: 5.0504\n",
            "Epoch 202/1000\n",
            "5/5 [==============================] - ETA: 0s - loss: 2.5711 - root_mean_squared_error: 3.2299INFO:tensorflow:Assets written to: model103/assets\n"
          ]
        },
        {
          "output_type": "stream",
          "name": "stderr",
          "text": [
            "INFO:tensorflow:Assets written to: model103/assets\n",
            "WARNING:absl:<keras.layers.recurrent.LSTMCell object at 0x7f96c82b4610> has the same name 'LSTMCell' as a built-in Keras object. Consider renaming <class 'keras.layers.recurrent.LSTMCell'> to avoid naming conflicts when loading with `tf.keras.models.load_model`. If renaming is not possible, pass the object in the `custom_objects` parameter of the load function.\n"
          ]
        },
        {
          "output_type": "stream",
          "name": "stdout",
          "text": [
            "\b\b\b\b\b\b\b\b\b\b\b\b\b\b\b\b\b\b\b\b\b\b\b\b\b\b\b\b\b\b\b\b\b\b\b\b\b\b\b\b\b\b\b\b\b\b\b\b\b\b\b\b\b\b\b\b\b\b\b\b\b\b\b\b\b\b\b\b\b\b\b\b\b\b\b\b\b\b\b\b\b\b\b\b\b\b\b\b\b\b\b\b\b\b\b\r5/5 [==============================] - 3s 857ms/step - loss: 2.5711 - root_mean_squared_error: 3.2299 - val_loss: 3.6325 - val_root_mean_squared_error: 4.4043\n",
            "Epoch 203/1000\n",
            "5/5 [==============================] - 0s 38ms/step - loss: 2.3608 - root_mean_squared_error: 3.0292 - val_loss: 3.8112 - val_root_mean_squared_error: 4.4182\n",
            "Epoch 204/1000\n",
            "5/5 [==============================] - 0s 38ms/step - loss: 2.7931 - root_mean_squared_error: 3.3663 - val_loss: 3.3787 - val_root_mean_squared_error: 4.5609\n",
            "Epoch 205/1000\n",
            "5/5 [==============================] - 0s 36ms/step - loss: 2.3851 - root_mean_squared_error: 3.0080 - val_loss: 3.4679 - val_root_mean_squared_error: 4.4711\n",
            "Epoch 206/1000\n",
            "5/5 [==============================] - 0s 37ms/step - loss: 2.3110 - root_mean_squared_error: 2.9636 - val_loss: 3.4244 - val_root_mean_squared_error: 4.4974\n",
            "Epoch 207/1000\n",
            "5/5 [==============================] - 0s 39ms/step - loss: 2.3250 - root_mean_squared_error: 2.9605 - val_loss: 3.6372 - val_root_mean_squared_error: 4.4053\n",
            "Epoch 208/1000\n",
            "5/5 [==============================] - 0s 36ms/step - loss: 2.3634 - root_mean_squared_error: 3.0068 - val_loss: 3.7601 - val_root_mean_squared_error: 5.0706\n",
            "Epoch 209/1000\n",
            "5/5 [==============================] - 0s 82ms/step - loss: 2.5984 - root_mean_squared_error: 3.2134 - val_loss: 3.7022 - val_root_mean_squared_error: 5.0023\n",
            "Epoch 210/1000\n",
            "5/5 [==============================] - 0s 94ms/step - loss: 2.7691 - root_mean_squared_error: 3.4652 - val_loss: 4.3795 - val_root_mean_squared_error: 4.9182\n",
            "Epoch 211/1000\n",
            "5/5 [==============================] - 0s 62ms/step - loss: 2.9342 - root_mean_squared_error: 3.7249 - val_loss: 4.5128 - val_root_mean_squared_error: 5.7717\n",
            "Epoch 212/1000\n",
            "5/5 [==============================] - 0s 35ms/step - loss: 2.6757 - root_mean_squared_error: 3.3376 - val_loss: 3.8367 - val_root_mean_squared_error: 4.4376\n",
            "Epoch 213/1000\n",
            "5/5 [==============================] - 0s 54ms/step - loss: 2.4412 - root_mean_squared_error: 3.1211 - val_loss: 3.4294 - val_root_mean_squared_error: 4.5203\n",
            "Epoch 214/1000\n",
            "5/5 [==============================] - 0s 92ms/step - loss: 2.4149 - root_mean_squared_error: 3.0554 - val_loss: 3.4481 - val_root_mean_squared_error: 4.6400\n",
            "Epoch 215/1000\n",
            "5/5 [==============================] - 0s 78ms/step - loss: 2.3352 - root_mean_squared_error: 2.9600 - val_loss: 3.4145 - val_root_mean_squared_error: 4.5906\n",
            "Epoch 216/1000\n",
            "5/5 [==============================] - 0s 45ms/step - loss: 2.3355 - root_mean_squared_error: 2.9682 - val_loss: 3.5391 - val_root_mean_squared_error: 4.4506\n",
            "Epoch 217/1000\n",
            "5/5 [==============================] - 0s 38ms/step - loss: 2.3661 - root_mean_squared_error: 3.0148 - val_loss: 3.4477 - val_root_mean_squared_error: 4.6632\n",
            "Epoch 218/1000\n",
            "5/5 [==============================] - 0s 36ms/step - loss: 2.3218 - root_mean_squared_error: 2.9158 - val_loss: 3.4371 - val_root_mean_squared_error: 4.6531\n",
            "Epoch 219/1000\n",
            "5/5 [==============================] - 0s 38ms/step - loss: 2.2726 - root_mean_squared_error: 2.9090 - val_loss: 4.0112 - val_root_mean_squared_error: 4.5334\n",
            "Epoch 220/1000\n",
            "5/5 [==============================] - 0s 37ms/step - loss: 2.7361 - root_mean_squared_error: 3.4381 - val_loss: 4.2604 - val_root_mean_squared_error: 5.5401\n",
            "Epoch 221/1000\n",
            "5/5 [==============================] - 0s 36ms/step - loss: 2.5439 - root_mean_squared_error: 3.2288 - val_loss: 3.4647 - val_root_mean_squared_error: 4.4695\n",
            "Epoch 222/1000\n",
            "5/5 [==============================] - 0s 35ms/step - loss: 2.2990 - root_mean_squared_error: 2.9316 - val_loss: 3.4948 - val_root_mean_squared_error: 4.4525\n",
            "Epoch 223/1000\n",
            "5/5 [==============================] - 0s 36ms/step - loss: 2.3797 - root_mean_squared_error: 2.9886 - val_loss: 3.4745 - val_root_mean_squared_error: 4.7466\n",
            "Epoch 224/1000\n",
            "5/5 [==============================] - 0s 37ms/step - loss: 2.4179 - root_mean_squared_error: 3.0299 - val_loss: 3.4786 - val_root_mean_squared_error: 4.7612\n",
            "Epoch 225/1000\n",
            "5/5 [==============================] - ETA: 0s - loss: 2.2297 - root_mean_squared_error: 2.8729INFO:tensorflow:Assets written to: model103/assets\n"
          ]
        },
        {
          "output_type": "stream",
          "name": "stderr",
          "text": [
            "INFO:tensorflow:Assets written to: model103/assets\n",
            "WARNING:absl:<keras.layers.recurrent.LSTMCell object at 0x7f96c82b4610> has the same name 'LSTMCell' as a built-in Keras object. Consider renaming <class 'keras.layers.recurrent.LSTMCell'> to avoid naming conflicts when loading with `tf.keras.models.load_model`. If renaming is not possible, pass the object in the `custom_objects` parameter of the load function.\n"
          ]
        },
        {
          "output_type": "stream",
          "name": "stdout",
          "text": [
            "\b\b\b\b\b\b\b\b\b\b\b\b\b\b\b\b\b\b\b\b\b\b\b\b\b\b\b\b\b\b\b\b\b\b\b\b\b\b\b\b\b\b\b\b\b\b\b\b\b\b\b\b\b\b\b\b\b\b\b\b\b\b\b\b\b\b\b\b\b\b\b\b\b\b\b\b\b\b\b\b\b\b\b\b\b\b\b\b\b\b\b\b\b\b\b\r5/5 [==============================] - 3s 755ms/step - loss: 2.2297 - root_mean_squared_error: 2.8729 - val_loss: 3.6427 - val_root_mean_squared_error: 4.4001\n",
            "Epoch 226/1000\n",
            "5/5 [==============================] - 0s 38ms/step - loss: 2.3091 - root_mean_squared_error: 2.9532 - val_loss: 3.5895 - val_root_mean_squared_error: 4.8806\n",
            "Epoch 227/1000\n",
            "5/5 [==============================] - 0s 83ms/step - loss: 2.3284 - root_mean_squared_error: 2.9401 - val_loss: 3.3868 - val_root_mean_squared_error: 4.5068\n",
            "Epoch 228/1000\n",
            "5/5 [==============================] - 0s 97ms/step - loss: 2.4390 - root_mean_squared_error: 3.0810 - val_loss: 3.7450 - val_root_mean_squared_error: 4.4009\n",
            "Epoch 229/1000\n",
            "5/5 [==============================] - 0s 71ms/step - loss: 2.3049 - root_mean_squared_error: 2.9682 - val_loss: 3.4706 - val_root_mean_squared_error: 4.7641\n",
            "Epoch 230/1000\n",
            "5/5 [==============================] - 0s 34ms/step - loss: 2.2757 - root_mean_squared_error: 2.9105 - val_loss: 3.3765 - val_root_mean_squared_error: 4.5126\n",
            "Epoch 231/1000\n",
            "5/5 [==============================] - ETA: 0s - loss: 2.2822 - root_mean_squared_error: 2.9025INFO:tensorflow:Assets written to: model103/assets\n"
          ]
        },
        {
          "output_type": "stream",
          "name": "stderr",
          "text": [
            "INFO:tensorflow:Assets written to: model103/assets\n",
            "WARNING:absl:<keras.layers.recurrent.LSTMCell object at 0x7f96c82b4610> has the same name 'LSTMCell' as a built-in Keras object. Consider renaming <class 'keras.layers.recurrent.LSTMCell'> to avoid naming conflicts when loading with `tf.keras.models.load_model`. If renaming is not possible, pass the object in the `custom_objects` parameter of the load function.\n"
          ]
        },
        {
          "output_type": "stream",
          "name": "stdout",
          "text": [
            "\b\b\b\b\b\b\b\b\b\b\b\b\b\b\b\b\b\b\b\b\b\b\b\b\b\b\b\b\b\b\b\b\b\b\b\b\b\b\b\b\b\b\b\b\b\b\b\b\b\b\b\b\b\b\b\b\b\b\b\b\b\b\b\b\b\b\b\b\b\b\b\b\b\b\b\b\b\b\b\b\b\b\b\b\b\b\b\b\b\b\b\b\b\b\b\r5/5 [==============================] - 3s 822ms/step - loss: 2.2822 - root_mean_squared_error: 2.9025 - val_loss: 3.6486 - val_root_mean_squared_error: 4.3952\n",
            "Epoch 232/1000\n",
            "5/5 [==============================] - 0s 39ms/step - loss: 2.3065 - root_mean_squared_error: 2.9671 - val_loss: 3.3464 - val_root_mean_squared_error: 4.5517\n",
            "Epoch 233/1000\n",
            "5/5 [==============================] - 0s 35ms/step - loss: 2.2829 - root_mean_squared_error: 2.9308 - val_loss: 3.3666 - val_root_mean_squared_error: 4.5928\n",
            "Epoch 234/1000\n",
            "5/5 [==============================] - 0s 35ms/step - loss: 2.2711 - root_mean_squared_error: 2.9434 - val_loss: 3.7522 - val_root_mean_squared_error: 4.4055\n",
            "Epoch 235/1000\n",
            "5/5 [==============================] - 0s 34ms/step - loss: 2.4068 - root_mean_squared_error: 2.9988 - val_loss: 3.3865 - val_root_mean_squared_error: 4.6343\n",
            "Epoch 236/1000\n",
            "5/5 [==============================] - 0s 35ms/step - loss: 2.2128 - root_mean_squared_error: 2.8742 - val_loss: 3.6136 - val_root_mean_squared_error: 4.4081\n",
            "Epoch 237/1000\n",
            "5/5 [==============================] - 0s 37ms/step - loss: 2.3730 - root_mean_squared_error: 3.0431 - val_loss: 4.0313 - val_root_mean_squared_error: 4.5595\n",
            "Epoch 238/1000\n",
            "5/5 [==============================] - 0s 35ms/step - loss: 2.5021 - root_mean_squared_error: 3.1976 - val_loss: 3.3489 - val_root_mean_squared_error: 4.5680\n",
            "Epoch 239/1000\n",
            "5/5 [==============================] - 0s 36ms/step - loss: 2.5846 - root_mean_squared_error: 3.2533 - val_loss: 3.8446 - val_root_mean_squared_error: 5.1589\n",
            "Epoch 240/1000\n",
            "5/5 [==============================] - 0s 34ms/step - loss: 2.5858 - root_mean_squared_error: 3.2446 - val_loss: 3.5553 - val_root_mean_squared_error: 4.4132\n",
            "Epoch 241/1000\n",
            "5/5 [==============================] - 0s 34ms/step - loss: 2.2680 - root_mean_squared_error: 2.9013 - val_loss: 3.3982 - val_root_mean_squared_error: 4.6449\n",
            "Epoch 242/1000\n",
            "5/5 [==============================] - 0s 38ms/step - loss: 2.3449 - root_mean_squared_error: 2.9644 - val_loss: 3.4908 - val_root_mean_squared_error: 4.7869\n",
            "Epoch 243/1000\n",
            "5/5 [==============================] - 0s 35ms/step - loss: 2.4689 - root_mean_squared_error: 3.0880 - val_loss: 3.4811 - val_root_mean_squared_error: 4.4308\n",
            "Epoch 244/1000\n",
            "5/5 [==============================] - ETA: 0s - loss: 2.2978 - root_mean_squared_error: 2.9519INFO:tensorflow:Assets written to: model103/assets\n"
          ]
        },
        {
          "output_type": "stream",
          "name": "stderr",
          "text": [
            "INFO:tensorflow:Assets written to: model103/assets\n",
            "WARNING:absl:<keras.layers.recurrent.LSTMCell object at 0x7f96c82b4610> has the same name 'LSTMCell' as a built-in Keras object. Consider renaming <class 'keras.layers.recurrent.LSTMCell'> to avoid naming conflicts when loading with `tf.keras.models.load_model`. If renaming is not possible, pass the object in the `custom_objects` parameter of the load function.\n"
          ]
        },
        {
          "output_type": "stream",
          "name": "stdout",
          "text": [
            "\b\b\b\b\b\b\b\b\b\b\b\b\b\b\b\b\b\b\b\b\b\b\b\b\b\b\b\b\b\b\b\b\b\b\b\b\b\b\b\b\b\b\b\b\b\b\b\b\b\b\b\b\b\b\b\b\b\b\b\b\b\b\b\b\b\b\b\b\b\b\b\b\b\b\b\b\b\b\b\b\b\b\b\b\b\b\b\b\b\b\b\b\b\b\b\r5/5 [==============================] - 3s 738ms/step - loss: 2.2978 - root_mean_squared_error: 2.9519 - val_loss: 3.5990 - val_root_mean_squared_error: 4.3918\n",
            "Epoch 245/1000\n",
            "5/5 [==============================] - 0s 35ms/step - loss: 2.2847 - root_mean_squared_error: 2.9405 - val_loss: 3.4619 - val_root_mean_squared_error: 4.4381\n",
            "Epoch 246/1000\n",
            "5/5 [==============================] - 0s 36ms/step - loss: 2.2645 - root_mean_squared_error: 2.9130 - val_loss: 3.5173 - val_root_mean_squared_error: 4.4125\n",
            "Epoch 247/1000\n",
            "5/5 [==============================] - 0s 36ms/step - loss: 2.1969 - root_mean_squared_error: 2.8717 - val_loss: 3.5323 - val_root_mean_squared_error: 4.8287\n",
            "Epoch 248/1000\n",
            "5/5 [==============================] - 0s 35ms/step - loss: 2.3023 - root_mean_squared_error: 2.9896 - val_loss: 3.4379 - val_root_mean_squared_error: 4.4510\n",
            "Epoch 249/1000\n",
            "5/5 [==============================] - 0s 40ms/step - loss: 2.2049 - root_mean_squared_error: 2.9210 - val_loss: 3.5205 - val_root_mean_squared_error: 4.4119\n",
            "Epoch 250/1000\n",
            "5/5 [==============================] - 0s 35ms/step - loss: 2.3084 - root_mean_squared_error: 2.9337 - val_loss: 3.3535 - val_root_mean_squared_error: 4.5917\n",
            "Epoch 251/1000\n",
            "5/5 [==============================] - 0s 35ms/step - loss: 2.2415 - root_mean_squared_error: 2.8678 - val_loss: 3.4305 - val_root_mean_squared_error: 4.7328\n",
            "Epoch 252/1000\n",
            "5/5 [==============================] - 0s 35ms/step - loss: 2.3152 - root_mean_squared_error: 2.9336 - val_loss: 3.5577 - val_root_mean_squared_error: 4.3978\n",
            "Epoch 253/1000\n",
            "5/5 [==============================] - 0s 35ms/step - loss: 2.3410 - root_mean_squared_error: 3.0165 - val_loss: 4.0383 - val_root_mean_squared_error: 4.5806\n",
            "Epoch 254/1000\n",
            "5/5 [==============================] - 0s 33ms/step - loss: 2.7256 - root_mean_squared_error: 3.4699 - val_loss: 3.6124 - val_root_mean_squared_error: 4.9296\n",
            "Epoch 255/1000\n",
            "5/5 [==============================] - 0s 39ms/step - loss: 2.5369 - root_mean_squared_error: 3.1730 - val_loss: 3.8257 - val_root_mean_squared_error: 5.1535\n",
            "Epoch 256/1000\n",
            "5/5 [==============================] - 0s 34ms/step - loss: 2.8839 - root_mean_squared_error: 3.4897 - val_loss: 4.0946 - val_root_mean_squared_error: 4.6041\n",
            "Epoch 257/1000\n",
            "5/5 [==============================] - 0s 36ms/step - loss: 2.5533 - root_mean_squared_error: 3.2057 - val_loss: 3.4283 - val_root_mean_squared_error: 4.6518\n",
            "Epoch 258/1000\n",
            "5/5 [==============================] - 0s 36ms/step - loss: 2.4629 - root_mean_squared_error: 3.1002 - val_loss: 3.8049 - val_root_mean_squared_error: 5.1375\n",
            "Epoch 259/1000\n",
            "5/5 [==============================] - 0s 36ms/step - loss: 2.6446 - root_mean_squared_error: 3.3788 - val_loss: 3.8983 - val_root_mean_squared_error: 4.4645\n",
            "Epoch 260/1000\n",
            "5/5 [==============================] - 0s 35ms/step - loss: 2.4489 - root_mean_squared_error: 3.0369 - val_loss: 3.9007 - val_root_mean_squared_error: 5.2301\n",
            "Epoch 261/1000\n",
            "5/5 [==============================] - 0s 38ms/step - loss: 2.3687 - root_mean_squared_error: 2.9841 - val_loss: 3.8435 - val_root_mean_squared_error: 4.4420\n",
            "Epoch 262/1000\n",
            "5/5 [==============================] - 0s 36ms/step - loss: 2.3252 - root_mean_squared_error: 2.9953 - val_loss: 3.9222 - val_root_mean_squared_error: 5.2475\n",
            "Epoch 263/1000\n",
            "5/5 [==============================] - 0s 37ms/step - loss: 2.4121 - root_mean_squared_error: 3.0715 - val_loss: 3.7583 - val_root_mean_squared_error: 4.4170\n",
            "Epoch 264/1000\n",
            "5/5 [==============================] - 0s 37ms/step - loss: 2.3088 - root_mean_squared_error: 2.9459 - val_loss: 3.5562 - val_root_mean_squared_error: 4.8663\n",
            "Epoch 265/1000\n",
            "5/5 [==============================] - 0s 37ms/step - loss: 2.2007 - root_mean_squared_error: 2.8581 - val_loss: 3.8170 - val_root_mean_squared_error: 4.4218\n",
            "Epoch 266/1000\n",
            "5/5 [==============================] - 0s 41ms/step - loss: 2.3339 - root_mean_squared_error: 2.9525 - val_loss: 4.5331 - val_root_mean_squared_error: 5.7736\n",
            "Epoch 267/1000\n",
            "5/5 [==============================] - 0s 35ms/step - loss: 2.6426 - root_mean_squared_error: 3.4412 - val_loss: 4.3595 - val_root_mean_squared_error: 4.8942\n",
            "Epoch 268/1000\n",
            "5/5 [==============================] - 0s 37ms/step - loss: 3.3063 - root_mean_squared_error: 4.0635 - val_loss: 4.4492 - val_root_mean_squared_error: 5.7056\n",
            "Epoch 269/1000\n",
            "5/5 [==============================] - 0s 38ms/step - loss: 2.6144 - root_mean_squared_error: 3.3341 - val_loss: 3.7325 - val_root_mean_squared_error: 4.4123\n",
            "Epoch 270/1000\n",
            "5/5 [==============================] - 0s 38ms/step - loss: 2.2332 - root_mean_squared_error: 2.8729 - val_loss: 3.5358 - val_root_mean_squared_error: 4.8314\n",
            "Epoch 271/1000\n",
            "5/5 [==============================] - 0s 37ms/step - loss: 2.4353 - root_mean_squared_error: 3.0611 - val_loss: 3.4115 - val_root_mean_squared_error: 4.6068\n",
            "Epoch 272/1000\n",
            "5/5 [==============================] - 0s 38ms/step - loss: 2.2709 - root_mean_squared_error: 2.8899 - val_loss: 3.6256 - val_root_mean_squared_error: 4.4300\n",
            "Epoch 273/1000\n",
            "5/5 [==============================] - 0s 37ms/step - loss: 2.3059 - root_mean_squared_error: 2.9351 - val_loss: 3.6591 - val_root_mean_squared_error: 4.9620\n",
            "Epoch 274/1000\n",
            "5/5 [==============================] - 0s 38ms/step - loss: 2.5337 - root_mean_squared_error: 3.2222 - val_loss: 3.8973 - val_root_mean_squared_error: 4.4612\n",
            "Epoch 275/1000\n",
            "5/5 [==============================] - 0s 36ms/step - loss: 2.5217 - root_mean_squared_error: 3.1254 - val_loss: 3.5495 - val_root_mean_squared_error: 4.8521\n",
            "Epoch 276/1000\n",
            "5/5 [==============================] - 0s 37ms/step - loss: 2.4418 - root_mean_squared_error: 3.0814 - val_loss: 3.3802 - val_root_mean_squared_error: 4.5608\n",
            "Epoch 277/1000\n",
            "5/5 [==============================] - 0s 39ms/step - loss: 2.3065 - root_mean_squared_error: 2.9318 - val_loss: 3.6542 - val_root_mean_squared_error: 4.4120\n",
            "Epoch 278/1000\n",
            "5/5 [==============================] - 0s 36ms/step - loss: 2.3125 - root_mean_squared_error: 2.9610 - val_loss: 3.6102 - val_root_mean_squared_error: 4.9244\n",
            "Epoch 279/1000\n",
            "5/5 [==============================] - 0s 40ms/step - loss: 2.4634 - root_mean_squared_error: 3.0950 - val_loss: 3.9506 - val_root_mean_squared_error: 4.4863\n",
            "Epoch 280/1000\n",
            "5/5 [==============================] - 0s 37ms/step - loss: 2.6674 - root_mean_squared_error: 3.3040 - val_loss: 3.5795 - val_root_mean_squared_error: 4.8924\n",
            "Epoch 281/1000\n",
            "5/5 [==============================] - 0s 35ms/step - loss: 2.3916 - root_mean_squared_error: 3.0209 - val_loss: 3.3882 - val_root_mean_squared_error: 4.6395\n",
            "Epoch 282/1000\n",
            "5/5 [==============================] - 0s 37ms/step - loss: 2.4138 - root_mean_squared_error: 3.0365 - val_loss: 3.5902 - val_root_mean_squared_error: 4.4066\n",
            "Epoch 283/1000\n",
            "5/5 [==============================] - 0s 36ms/step - loss: 2.2519 - root_mean_squared_error: 2.9135 - val_loss: 3.4791 - val_root_mean_squared_error: 4.7941\n",
            "Epoch 284/1000\n",
            "5/5 [==============================] - 0s 36ms/step - loss: 2.3124 - root_mean_squared_error: 2.8790 - val_loss: 3.3771 - val_root_mean_squared_error: 4.6470\n",
            "Epoch 285/1000\n",
            "5/5 [==============================] - 0s 36ms/step - loss: 2.2873 - root_mean_squared_error: 2.8989 - val_loss: 3.4426 - val_root_mean_squared_error: 4.4559\n",
            "Epoch 286/1000\n",
            "5/5 [==============================] - 0s 37ms/step - loss: 2.2381 - root_mean_squared_error: 2.8427 - val_loss: 3.6263 - val_root_mean_squared_error: 4.9548\n",
            "Epoch 287/1000\n",
            "5/5 [==============================] - 0s 37ms/step - loss: 2.2964 - root_mean_squared_error: 2.9467 - val_loss: 3.3628 - val_root_mean_squared_error: 4.6373\n",
            "Epoch 288/1000\n",
            "5/5 [==============================] - 0s 43ms/step - loss: 2.1947 - root_mean_squared_error: 2.8289 - val_loss: 3.8344 - val_root_mean_squared_error: 4.4218\n",
            "Epoch 289/1000\n",
            "5/5 [==============================] - 0s 41ms/step - loss: 2.4715 - root_mean_squared_error: 3.1088 - val_loss: 3.4029 - val_root_mean_squared_error: 4.7039\n",
            "Epoch 290/1000\n",
            "5/5 [==============================] - 0s 41ms/step - loss: 2.2083 - root_mean_squared_error: 2.8329 - val_loss: 3.4591 - val_root_mean_squared_error: 4.4663\n",
            "Epoch 291/1000\n",
            "5/5 [==============================] - 0s 36ms/step - loss: 2.2228 - root_mean_squared_error: 2.8499 - val_loss: 3.4721 - val_root_mean_squared_error: 4.4533\n",
            "Epoch 292/1000\n",
            "5/5 [==============================] - 0s 36ms/step - loss: 2.4123 - root_mean_squared_error: 3.0565 - val_loss: 3.8911 - val_root_mean_squared_error: 5.2197\n",
            "Epoch 293/1000\n",
            "5/5 [==============================] - 0s 42ms/step - loss: 2.4021 - root_mean_squared_error: 2.9942 - val_loss: 3.5179 - val_root_mean_squared_error: 4.4333\n",
            "Epoch 294/1000\n",
            "5/5 [==============================] - 0s 44ms/step - loss: 2.3057 - root_mean_squared_error: 2.8954 - val_loss: 3.5343 - val_root_mean_squared_error: 4.4204\n",
            "Epoch 295/1000\n",
            "5/5 [==============================] - 0s 36ms/step - loss: 2.2929 - root_mean_squared_error: 2.9680 - val_loss: 3.5902 - val_root_mean_squared_error: 4.3962\n",
            "Epoch 296/1000\n",
            "5/5 [==============================] - 0s 36ms/step - loss: 2.3378 - root_mean_squared_error: 2.9463 - val_loss: 3.6043 - val_root_mean_squared_error: 4.3961\n",
            "Epoch 297/1000\n",
            "5/5 [==============================] - 0s 37ms/step - loss: 2.2066 - root_mean_squared_error: 2.8596 - val_loss: 3.4234 - val_root_mean_squared_error: 4.7405\n",
            "Epoch 298/1000\n",
            "5/5 [==============================] - 0s 35ms/step - loss: 2.1352 - root_mean_squared_error: 2.8075 - val_loss: 3.5373 - val_root_mean_squared_error: 4.4278\n",
            "Epoch 299/1000\n",
            "5/5 [==============================] - 0s 40ms/step - loss: 2.1902 - root_mean_squared_error: 2.8810 - val_loss: 3.3628 - val_root_mean_squared_error: 4.6558\n",
            "Epoch 300/1000\n",
            "5/5 [==============================] - 0s 36ms/step - loss: 2.1743 - root_mean_squared_error: 2.8677 - val_loss: 3.3995 - val_root_mean_squared_error: 4.4953\n",
            "Epoch 301/1000\n",
            "5/5 [==============================] - 0s 38ms/step - loss: 2.2199 - root_mean_squared_error: 2.9079 - val_loss: 3.3353 - val_root_mean_squared_error: 4.5457\n",
            "Epoch 302/1000\n",
            "5/5 [==============================] - 0s 38ms/step - loss: 2.2554 - root_mean_squared_error: 2.9216 - val_loss: 3.4943 - val_root_mean_squared_error: 4.4378\n",
            "Epoch 303/1000\n",
            "5/5 [==============================] - 0s 37ms/step - loss: 2.2176 - root_mean_squared_error: 2.8280 - val_loss: 3.6287 - val_root_mean_squared_error: 4.3989\n",
            "Epoch 304/1000\n",
            "5/5 [==============================] - 0s 43ms/step - loss: 2.2110 - root_mean_squared_error: 2.8642 - val_loss: 3.4764 - val_root_mean_squared_error: 4.4440\n",
            "Epoch 305/1000\n",
            "5/5 [==============================] - 0s 37ms/step - loss: 2.1896 - root_mean_squared_error: 2.7627 - val_loss: 3.7101 - val_root_mean_squared_error: 5.0314\n",
            "Epoch 306/1000\n",
            "5/5 [==============================] - 0s 37ms/step - loss: 2.3683 - root_mean_squared_error: 2.9840 - val_loss: 3.3134 - val_root_mean_squared_error: 4.6163\n",
            "Epoch 307/1000\n",
            "5/5 [==============================] - 0s 36ms/step - loss: 2.2413 - root_mean_squared_error: 2.8921 - val_loss: 3.5326 - val_root_mean_squared_error: 4.4022\n",
            "Epoch 308/1000\n",
            "5/5 [==============================] - ETA: 0s - loss: 2.1522 - root_mean_squared_error: 2.7956INFO:tensorflow:Assets written to: model103/assets\n"
          ]
        },
        {
          "output_type": "stream",
          "name": "stderr",
          "text": [
            "INFO:tensorflow:Assets written to: model103/assets\n",
            "WARNING:absl:<keras.layers.recurrent.LSTMCell object at 0x7f96c82b4610> has the same name 'LSTMCell' as a built-in Keras object. Consider renaming <class 'keras.layers.recurrent.LSTMCell'> to avoid naming conflicts when loading with `tf.keras.models.load_model`. If renaming is not possible, pass the object in the `custom_objects` parameter of the load function.\n"
          ]
        },
        {
          "output_type": "stream",
          "name": "stdout",
          "text": [
            "\b\b\b\b\b\b\b\b\b\b\b\b\b\b\b\b\b\b\b\b\b\b\b\b\b\b\b\b\b\b\b\b\b\b\b\b\b\b\b\b\b\b\b\b\b\b\b\b\b\b\b\b\b\b\b\b\b\b\b\b\b\b\b\b\b\b\b\b\b\b\b\b\b\b\b\b\b\b\b\b\b\b\b\b\b\b\b\b\b\b\b\b\b\b\b\r5/5 [==============================] - 3s 845ms/step - loss: 2.1522 - root_mean_squared_error: 2.7956 - val_loss: 3.6344 - val_root_mean_squared_error: 4.3834\n",
            "Epoch 309/1000\n",
            "5/5 [==============================] - 0s 37ms/step - loss: 2.3594 - root_mean_squared_error: 2.9630 - val_loss: 4.8266 - val_root_mean_squared_error: 6.0374\n",
            "Epoch 310/1000\n",
            "5/5 [==============================] - 0s 37ms/step - loss: 2.7989 - root_mean_squared_error: 3.5559 - val_loss: 4.1115 - val_root_mean_squared_error: 4.6372\n",
            "Epoch 311/1000\n",
            "5/5 [==============================] - 0s 36ms/step - loss: 2.5426 - root_mean_squared_error: 3.2265 - val_loss: 3.3986 - val_root_mean_squared_error: 4.6801\n",
            "Epoch 312/1000\n",
            "5/5 [==============================] - 0s 37ms/step - loss: 2.6040 - root_mean_squared_error: 3.2625 - val_loss: 3.5101 - val_root_mean_squared_error: 4.8234\n",
            "Epoch 313/1000\n",
            "5/5 [==============================] - 0s 38ms/step - loss: 2.4469 - root_mean_squared_error: 3.0610 - val_loss: 3.6453 - val_root_mean_squared_error: 4.4059\n",
            "Epoch 314/1000\n",
            "5/5 [==============================] - 0s 41ms/step - loss: 2.2552 - root_mean_squared_error: 2.9456 - val_loss: 3.4068 - val_root_mean_squared_error: 4.6710\n",
            "Epoch 315/1000\n",
            "5/5 [==============================] - 0s 37ms/step - loss: 2.1698 - root_mean_squared_error: 2.8050 - val_loss: 3.5662 - val_root_mean_squared_error: 4.4104\n",
            "Epoch 316/1000\n",
            "5/5 [==============================] - 0s 37ms/step - loss: 2.2635 - root_mean_squared_error: 2.9357 - val_loss: 3.7646 - val_root_mean_squared_error: 5.0922\n",
            "Epoch 317/1000\n",
            "5/5 [==============================] - 0s 37ms/step - loss: 2.2996 - root_mean_squared_error: 2.9075 - val_loss: 3.5516 - val_root_mean_squared_error: 4.3981\n",
            "Epoch 318/1000\n",
            "5/5 [==============================] - 0s 37ms/step - loss: 2.3465 - root_mean_squared_error: 2.9816 - val_loss: 3.5045 - val_root_mean_squared_error: 4.4076\n",
            "Epoch 319/1000\n",
            "5/5 [==============================] - 0s 38ms/step - loss: 2.2520 - root_mean_squared_error: 2.8970 - val_loss: 3.6284 - val_root_mean_squared_error: 4.9628\n",
            "Epoch 320/1000\n",
            "5/5 [==============================] - 0s 35ms/step - loss: 2.2998 - root_mean_squared_error: 2.9264 - val_loss: 3.2971 - val_root_mean_squared_error: 4.5751\n",
            "Epoch 321/1000\n",
            "5/5 [==============================] - 0s 37ms/step - loss: 2.1919 - root_mean_squared_error: 2.8497 - val_loss: 3.5126 - val_root_mean_squared_error: 4.3985\n",
            "Epoch 322/1000\n",
            "5/5 [==============================] - ETA: 0s - loss: 2.1854 - root_mean_squared_error: 2.7990INFO:tensorflow:Assets written to: model103/assets\n"
          ]
        },
        {
          "output_type": "stream",
          "name": "stderr",
          "text": [
            "INFO:tensorflow:Assets written to: model103/assets\n",
            "WARNING:absl:<keras.layers.recurrent.LSTMCell object at 0x7f96c82b4610> has the same name 'LSTMCell' as a built-in Keras object. Consider renaming <class 'keras.layers.recurrent.LSTMCell'> to avoid naming conflicts when loading with `tf.keras.models.load_model`. If renaming is not possible, pass the object in the `custom_objects` parameter of the load function.\n"
          ]
        },
        {
          "output_type": "stream",
          "name": "stdout",
          "text": [
            "\b\b\b\b\b\b\b\b\b\b\b\b\b\b\b\b\b\b\b\b\b\b\b\b\b\b\b\b\b\b\b\b\b\b\b\b\b\b\b\b\b\b\b\b\b\b\b\b\b\b\b\b\b\b\b\b\b\b\b\b\b\b\b\b\b\b\b\b\b\b\b\b\b\b\b\b\b\b\b\b\b\b\b\b\b\b\b\b\b\b\b\b\b\b\b\r5/5 [==============================] - 3s 771ms/step - loss: 2.1854 - root_mean_squared_error: 2.7990 - val_loss: 3.6366 - val_root_mean_squared_error: 4.3764\n",
            "Epoch 323/1000\n",
            "5/5 [==============================] - 0s 38ms/step - loss: 2.2920 - root_mean_squared_error: 2.8951 - val_loss: 3.3829 - val_root_mean_squared_error: 4.7072\n",
            "Epoch 324/1000\n",
            "5/5 [==============================] - 0s 36ms/step - loss: 2.2523 - root_mean_squared_error: 2.8749 - val_loss: 3.6586 - val_root_mean_squared_error: 4.9782\n",
            "Epoch 325/1000\n",
            "5/5 [==============================] - 0s 37ms/step - loss: 2.1834 - root_mean_squared_error: 2.8456 - val_loss: 3.5625 - val_root_mean_squared_error: 4.3865\n",
            "Epoch 326/1000\n",
            "5/5 [==============================] - 0s 39ms/step - loss: 2.1333 - root_mean_squared_error: 2.7970 - val_loss: 3.3175 - val_root_mean_squared_error: 4.5564\n",
            "Epoch 327/1000\n",
            "5/5 [==============================] - 0s 37ms/step - loss: 2.1914 - root_mean_squared_error: 2.8876 - val_loss: 3.4548 - val_root_mean_squared_error: 4.7783\n",
            "Epoch 328/1000\n",
            "5/5 [==============================] - 0s 37ms/step - loss: 2.1784 - root_mean_squared_error: 2.8047 - val_loss: 3.3260 - val_root_mean_squared_error: 4.5612\n",
            "Epoch 329/1000\n",
            "5/5 [==============================] - 0s 38ms/step - loss: 2.1190 - root_mean_squared_error: 2.8246 - val_loss: 3.9866 - val_root_mean_squared_error: 4.5568\n",
            "Epoch 330/1000\n",
            "5/5 [==============================] - 0s 38ms/step - loss: 2.8234 - root_mean_squared_error: 3.4064 - val_loss: 3.4300 - val_root_mean_squared_error: 4.4267\n",
            "Epoch 331/1000\n",
            "5/5 [==============================] - 0s 38ms/step - loss: 2.3562 - root_mean_squared_error: 3.0605 - val_loss: 3.9950 - val_root_mean_squared_error: 5.3005\n",
            "Epoch 332/1000\n",
            "5/5 [==============================] - 0s 38ms/step - loss: 2.7053 - root_mean_squared_error: 3.3783 - val_loss: 3.7014 - val_root_mean_squared_error: 4.3880\n",
            "Epoch 333/1000\n",
            "5/5 [==============================] - 0s 37ms/step - loss: 2.6302 - root_mean_squared_error: 3.2114 - val_loss: 3.6768 - val_root_mean_squared_error: 4.3881\n",
            "Epoch 334/1000\n",
            "5/5 [==============================] - 0s 38ms/step - loss: 2.3653 - root_mean_squared_error: 3.0348 - val_loss: 3.3854 - val_root_mean_squared_error: 4.6955\n",
            "Epoch 335/1000\n",
            "5/5 [==============================] - 0s 37ms/step - loss: 2.2066 - root_mean_squared_error: 2.8459 - val_loss: 3.4035 - val_root_mean_squared_error: 4.7186\n",
            "Epoch 336/1000\n",
            "5/5 [==============================] - 0s 38ms/step - loss: 2.3399 - root_mean_squared_error: 2.9755 - val_loss: 3.7302 - val_root_mean_squared_error: 4.3986\n",
            "Epoch 337/1000\n",
            "5/5 [==============================] - 0s 40ms/step - loss: 2.1781 - root_mean_squared_error: 2.7871 - val_loss: 3.3308 - val_root_mean_squared_error: 4.5591\n",
            "Epoch 338/1000\n",
            "5/5 [==============================] - 0s 37ms/step - loss: 2.2284 - root_mean_squared_error: 2.8592 - val_loss: 3.7683 - val_root_mean_squared_error: 5.0666\n",
            "Epoch 339/1000\n",
            "5/5 [==============================] - 0s 36ms/step - loss: 2.3817 - root_mean_squared_error: 3.0199 - val_loss: 4.2789 - val_root_mean_squared_error: 4.7975\n",
            "Epoch 340/1000\n",
            "5/5 [==============================] - 0s 36ms/step - loss: 2.5204 - root_mean_squared_error: 3.1920 - val_loss: 3.4442 - val_root_mean_squared_error: 4.7729\n",
            "Epoch 341/1000\n",
            "5/5 [==============================] - 0s 36ms/step - loss: 2.1219 - root_mean_squared_error: 2.8165 - val_loss: 3.3219 - val_root_mean_squared_error: 4.6293\n",
            "Epoch 342/1000\n",
            "5/5 [==============================] - 0s 39ms/step - loss: 2.2420 - root_mean_squared_error: 2.8720 - val_loss: 3.3023 - val_root_mean_squared_error: 4.5079\n",
            "Epoch 343/1000\n",
            "5/5 [==============================] - 0s 37ms/step - loss: 2.1261 - root_mean_squared_error: 2.7811 - val_loss: 3.4488 - val_root_mean_squared_error: 4.4073\n",
            "Epoch 344/1000\n",
            "5/5 [==============================] - 0s 37ms/step - loss: 2.0900 - root_mean_squared_error: 2.7397 - val_loss: 3.3356 - val_root_mean_squared_error: 4.5653\n",
            "Epoch 345/1000\n",
            "5/5 [==============================] - 0s 36ms/step - loss: 2.0809 - root_mean_squared_error: 2.7436 - val_loss: 3.3444 - val_root_mean_squared_error: 4.5375\n",
            "Epoch 346/1000\n",
            "5/5 [==============================] - 0s 36ms/step - loss: 2.1184 - root_mean_squared_error: 2.7800 - val_loss: 3.3451 - val_root_mean_squared_error: 4.5550\n",
            "Epoch 347/1000\n",
            "5/5 [==============================] - 0s 38ms/step - loss: 2.1023 - root_mean_squared_error: 2.7717 - val_loss: 3.5913 - val_root_mean_squared_error: 4.3893\n",
            "Epoch 348/1000\n",
            "5/5 [==============================] - 0s 35ms/step - loss: 2.1427 - root_mean_squared_error: 2.8001 - val_loss: 3.3337 - val_root_mean_squared_error: 4.5377\n",
            "Epoch 349/1000\n",
            "5/5 [==============================] - 0s 38ms/step - loss: 2.1055 - root_mean_squared_error: 2.7793 - val_loss: 3.3712 - val_root_mean_squared_error: 4.6731\n",
            "Epoch 350/1000\n",
            "5/5 [==============================] - 0s 36ms/step - loss: 2.1984 - root_mean_squared_error: 2.8478 - val_loss: 3.5301 - val_root_mean_squared_error: 4.8490\n",
            "Epoch 351/1000\n",
            "5/5 [==============================] - 0s 37ms/step - loss: 2.3092 - root_mean_squared_error: 2.9005 - val_loss: 3.7012 - val_root_mean_squared_error: 4.3893\n",
            "Epoch 352/1000\n",
            "5/5 [==============================] - ETA: 0s - loss: 2.2344 - root_mean_squared_error: 2.8416INFO:tensorflow:Assets written to: model103/assets\n"
          ]
        },
        {
          "output_type": "stream",
          "name": "stderr",
          "text": [
            "INFO:tensorflow:Assets written to: model103/assets\n",
            "WARNING:absl:<keras.layers.recurrent.LSTMCell object at 0x7f96c82b4610> has the same name 'LSTMCell' as a built-in Keras object. Consider renaming <class 'keras.layers.recurrent.LSTMCell'> to avoid naming conflicts when loading with `tf.keras.models.load_model`. If renaming is not possible, pass the object in the `custom_objects` parameter of the load function.\n"
          ]
        },
        {
          "output_type": "stream",
          "name": "stdout",
          "text": [
            "\b\b\b\b\b\b\b\b\b\b\b\b\b\b\b\b\b\b\b\b\b\b\b\b\b\b\b\b\b\b\b\b\b\b\b\b\b\b\b\b\b\b\b\b\b\b\b\b\b\b\b\b\b\b\b\b\b\b\b\b\b\b\b\b\b\b\b\b\b\b\b\b\b\b\b\b\b\b\b\b\b\b\b\b\b\b\b\b\b\b\b\b\b\b\b\r5/5 [==============================] - 3s 828ms/step - loss: 2.2344 - root_mean_squared_error: 2.8416 - val_loss: 3.4950 - val_root_mean_squared_error: 4.3680\n",
            "Epoch 353/1000\n",
            "5/5 [==============================] - 0s 38ms/step - loss: 2.3255 - root_mean_squared_error: 2.9320 - val_loss: 3.4763 - val_root_mean_squared_error: 4.8044\n",
            "Epoch 354/1000\n",
            "5/5 [==============================] - 0s 42ms/step - loss: 2.2345 - root_mean_squared_error: 2.9152 - val_loss: 3.3028 - val_root_mean_squared_error: 4.5720\n",
            "Epoch 355/1000\n",
            "5/5 [==============================] - 0s 36ms/step - loss: 2.0203 - root_mean_squared_error: 2.6668 - val_loss: 3.3240 - val_root_mean_squared_error: 4.6220\n",
            "Epoch 356/1000\n",
            "5/5 [==============================] - 0s 35ms/step - loss: 2.1273 - root_mean_squared_error: 2.8090 - val_loss: 3.4863 - val_root_mean_squared_error: 4.8096\n",
            "Epoch 357/1000\n",
            "5/5 [==============================] - 0s 36ms/step - loss: 2.1173 - root_mean_squared_error: 2.7705 - val_loss: 3.2804 - val_root_mean_squared_error: 4.5061\n",
            "Epoch 358/1000\n",
            "5/5 [==============================] - 0s 38ms/step - loss: 2.0147 - root_mean_squared_error: 2.6928 - val_loss: 3.3002 - val_root_mean_squared_error: 4.5229\n",
            "Epoch 359/1000\n",
            "5/5 [==============================] - 0s 36ms/step - loss: 2.0222 - root_mean_squared_error: 2.7271 - val_loss: 3.3441 - val_root_mean_squared_error: 4.4530\n",
            "Epoch 360/1000\n",
            "5/5 [==============================] - 0s 36ms/step - loss: 2.0356 - root_mean_squared_error: 2.7028 - val_loss: 3.5591 - val_root_mean_squared_error: 4.8710\n",
            "Epoch 361/1000\n",
            "5/5 [==============================] - 0s 36ms/step - loss: 2.3219 - root_mean_squared_error: 2.9093 - val_loss: 3.4601 - val_root_mean_squared_error: 4.4044\n",
            "Epoch 362/1000\n",
            "5/5 [==============================] - 0s 36ms/step - loss: 2.1761 - root_mean_squared_error: 2.8066 - val_loss: 3.6581 - val_root_mean_squared_error: 4.3751\n",
            "Epoch 363/1000\n",
            "5/5 [==============================] - 0s 40ms/step - loss: 2.4052 - root_mean_squared_error: 3.0792 - val_loss: 3.9821 - val_root_mean_squared_error: 4.5503\n",
            "Epoch 364/1000\n",
            "5/5 [==============================] - 0s 37ms/step - loss: 2.6175 - root_mean_squared_error: 3.2968 - val_loss: 3.2749 - val_root_mean_squared_error: 4.4652\n",
            "Epoch 365/1000\n",
            "5/5 [==============================] - 0s 35ms/step - loss: 2.4807 - root_mean_squared_error: 3.2212 - val_loss: 4.1751 - val_root_mean_squared_error: 5.4278\n",
            "Epoch 366/1000\n",
            "5/5 [==============================] - 0s 36ms/step - loss: 2.5950 - root_mean_squared_error: 3.2525 - val_loss: 4.0081 - val_root_mean_squared_error: 4.5581\n",
            "Epoch 367/1000\n",
            "5/5 [==============================] - 0s 38ms/step - loss: 2.4987 - root_mean_squared_error: 3.0550 - val_loss: 3.6027 - val_root_mean_squared_error: 4.9221\n",
            "Epoch 368/1000\n",
            "5/5 [==============================] - 0s 36ms/step - loss: 2.4386 - root_mean_squared_error: 3.0219 - val_loss: 3.4057 - val_root_mean_squared_error: 4.4341\n",
            "Epoch 369/1000\n",
            "5/5 [==============================] - 0s 36ms/step - loss: 2.5198 - root_mean_squared_error: 3.2133 - val_loss: 3.5816 - val_root_mean_squared_error: 4.3682\n",
            "Epoch 370/1000\n",
            "5/5 [==============================] - 0s 34ms/step - loss: 2.4116 - root_mean_squared_error: 3.0331 - val_loss: 3.4233 - val_root_mean_squared_error: 4.7358\n",
            "Epoch 371/1000\n",
            "5/5 [==============================] - 0s 37ms/step - loss: 2.1924 - root_mean_squared_error: 2.8152 - val_loss: 3.4540 - val_root_mean_squared_error: 4.3783\n",
            "Epoch 372/1000\n",
            "5/5 [==============================] - 0s 37ms/step - loss: 2.1486 - root_mean_squared_error: 2.7791 - val_loss: 3.3735 - val_root_mean_squared_error: 4.7015\n",
            "Epoch 373/1000\n",
            "5/5 [==============================] - 0s 37ms/step - loss: 2.1680 - root_mean_squared_error: 2.8031 - val_loss: 3.2743 - val_root_mean_squared_error: 4.4430\n",
            "Epoch 374/1000\n",
            "5/5 [==============================] - ETA: 0s - loss: 2.1168 - root_mean_squared_error: 2.7420INFO:tensorflow:Assets written to: model103/assets\n"
          ]
        },
        {
          "output_type": "stream",
          "name": "stderr",
          "text": [
            "INFO:tensorflow:Assets written to: model103/assets\n",
            "WARNING:absl:<keras.layers.recurrent.LSTMCell object at 0x7f96c82b4610> has the same name 'LSTMCell' as a built-in Keras object. Consider renaming <class 'keras.layers.recurrent.LSTMCell'> to avoid naming conflicts when loading with `tf.keras.models.load_model`. If renaming is not possible, pass the object in the `custom_objects` parameter of the load function.\n"
          ]
        },
        {
          "output_type": "stream",
          "name": "stdout",
          "text": [
            "\b\b\b\b\b\b\b\b\b\b\b\b\b\b\b\b\b\b\b\b\b\b\b\b\b\b\b\b\b\b\b\b\b\b\b\b\b\b\b\b\b\b\b\b\b\b\b\b\b\b\b\b\b\b\b\b\b\b\b\b\b\b\b\b\b\b\b\b\b\b\b\b\b\b\b\b\b\b\b\b\b\b\b\b\b\b\b\b\b\b\b\b\b\b\b\r5/5 [==============================] - 3s 752ms/step - loss: 2.1168 - root_mean_squared_error: 2.7420 - val_loss: 3.5671 - val_root_mean_squared_error: 4.3575\n",
            "Epoch 375/1000\n",
            "5/5 [==============================] - 0s 40ms/step - loss: 2.2688 - root_mean_squared_error: 2.9128 - val_loss: 3.5694 - val_root_mean_squared_error: 4.8734\n",
            "Epoch 376/1000\n",
            "5/5 [==============================] - 0s 37ms/step - loss: 2.1479 - root_mean_squared_error: 2.7784 - val_loss: 3.3084 - val_root_mean_squared_error: 4.4816\n",
            "Epoch 377/1000\n",
            "5/5 [==============================] - 0s 38ms/step - loss: 2.3270 - root_mean_squared_error: 2.9127 - val_loss: 4.0629 - val_root_mean_squared_error: 4.6142\n",
            "Epoch 378/1000\n",
            "5/5 [==============================] - 0s 38ms/step - loss: 2.7405 - root_mean_squared_error: 3.3677 - val_loss: 4.1009 - val_root_mean_squared_error: 5.3502\n",
            "Epoch 379/1000\n",
            "5/5 [==============================] - ETA: 0s - loss: 2.9313 - root_mean_squared_error: 3.5449INFO:tensorflow:Assets written to: model103/assets\n"
          ]
        },
        {
          "output_type": "stream",
          "name": "stderr",
          "text": [
            "INFO:tensorflow:Assets written to: model103/assets\n",
            "WARNING:absl:<keras.layers.recurrent.LSTMCell object at 0x7f96c82b4610> has the same name 'LSTMCell' as a built-in Keras object. Consider renaming <class 'keras.layers.recurrent.LSTMCell'> to avoid naming conflicts when loading with `tf.keras.models.load_model`. If renaming is not possible, pass the object in the `custom_objects` parameter of the load function.\n"
          ]
        },
        {
          "output_type": "stream",
          "name": "stdout",
          "text": [
            "\b\b\b\b\b\b\b\b\b\b\b\b\b\b\b\b\b\b\b\b\b\b\b\b\b\b\b\b\b\b\b\b\b\b\b\b\b\b\b\b\b\b\b\b\b\b\b\b\b\b\b\b\b\b\b\b\b\b\b\b\b\b\b\b\b\b\b\b\b\b\b\b\b\b\b\b\b\b\b\b\b\b\b\b\b\b\b\b\b\b\b\b\b\b\b\r5/5 [==============================] - 3s 764ms/step - loss: 2.9313 - root_mean_squared_error: 3.5449 - val_loss: 3.4810 - val_root_mean_squared_error: 4.3459\n",
            "Epoch 380/1000\n",
            "5/5 [==============================] - 0s 38ms/step - loss: 2.8300 - root_mean_squared_error: 3.4830 - val_loss: 3.4731 - val_root_mean_squared_error: 4.3688\n",
            "Epoch 381/1000\n",
            "5/5 [==============================] - 0s 40ms/step - loss: 2.7691 - root_mean_squared_error: 3.4476 - val_loss: 3.8982 - val_root_mean_squared_error: 5.2101\n",
            "Epoch 382/1000\n",
            "5/5 [==============================] - 0s 36ms/step - loss: 2.4584 - root_mean_squared_error: 3.1628 - val_loss: 3.8749 - val_root_mean_squared_error: 4.4382\n",
            "Epoch 383/1000\n",
            "5/5 [==============================] - 0s 39ms/step - loss: 2.4430 - root_mean_squared_error: 3.0121 - val_loss: 3.8960 - val_root_mean_squared_error: 5.2081\n",
            "Epoch 384/1000\n",
            "5/5 [==============================] - 0s 36ms/step - loss: 2.3597 - root_mean_squared_error: 3.0315 - val_loss: 3.6363 - val_root_mean_squared_error: 4.3719\n",
            "Epoch 385/1000\n",
            "5/5 [==============================] - 0s 38ms/step - loss: 2.2827 - root_mean_squared_error: 2.8925 - val_loss: 3.4223 - val_root_mean_squared_error: 4.7271\n",
            "Epoch 386/1000\n",
            "5/5 [==============================] - 0s 41ms/step - loss: 2.3314 - root_mean_squared_error: 2.9691 - val_loss: 3.5472 - val_root_mean_squared_error: 4.3537\n",
            "Epoch 387/1000\n",
            "5/5 [==============================] - 0s 41ms/step - loss: 2.2847 - root_mean_squared_error: 2.8758 - val_loss: 3.2793 - val_root_mean_squared_error: 4.4646\n",
            "Epoch 388/1000\n",
            "5/5 [==============================] - ETA: 0s - loss: 2.1318 - root_mean_squared_error: 2.7538INFO:tensorflow:Assets written to: model103/assets\n"
          ]
        },
        {
          "output_type": "stream",
          "name": "stderr",
          "text": [
            "INFO:tensorflow:Assets written to: model103/assets\n",
            "WARNING:absl:<keras.layers.recurrent.LSTMCell object at 0x7f96c82b4610> has the same name 'LSTMCell' as a built-in Keras object. Consider renaming <class 'keras.layers.recurrent.LSTMCell'> to avoid naming conflicts when loading with `tf.keras.models.load_model`. If renaming is not possible, pass the object in the `custom_objects` parameter of the load function.\n"
          ]
        },
        {
          "output_type": "stream",
          "name": "stdout",
          "text": [
            "\b\b\b\b\b\b\b\b\b\b\b\b\b\b\b\b\b\b\b\b\b\b\b\b\b\b\b\b\b\b\b\b\b\b\b\b\b\b\b\b\b\b\b\b\b\b\b\b\b\b\b\b\b\b\b\b\b\b\b\b\b\b\b\b\b\b\b\b\b\b\b\b\b\b\b\b\b\b\b\b\b\b\b\b\b\b\b\b\b\b\b\b\b\b\b\r5/5 [==============================] - 3s 864ms/step - loss: 2.1318 - root_mean_squared_error: 2.7538 - val_loss: 3.4951 - val_root_mean_squared_error: 4.3348\n",
            "Epoch 389/1000\n",
            "5/5 [==============================] - 0s 39ms/step - loss: 2.1819 - root_mean_squared_error: 2.7676 - val_loss: 3.2906 - val_root_mean_squared_error: 4.6196\n",
            "Epoch 390/1000\n",
            "5/5 [==============================] - 0s 40ms/step - loss: 2.1604 - root_mean_squared_error: 2.7473 - val_loss: 3.3524 - val_root_mean_squared_error: 4.6947\n",
            "Epoch 391/1000\n",
            "5/5 [==============================] - 0s 38ms/step - loss: 2.1652 - root_mean_squared_error: 2.8113 - val_loss: 3.7141 - val_root_mean_squared_error: 4.3603\n",
            "Epoch 392/1000\n",
            "5/5 [==============================] - 0s 37ms/step - loss: 2.3908 - root_mean_squared_error: 3.0998 - val_loss: 3.7160 - val_root_mean_squared_error: 5.0133\n",
            "Epoch 393/1000\n",
            "5/5 [==============================] - 0s 37ms/step - loss: 2.1906 - root_mean_squared_error: 2.8253 - val_loss: 3.2544 - val_root_mean_squared_error: 4.4861\n",
            "Epoch 394/1000\n",
            "5/5 [==============================] - 0s 35ms/step - loss: 2.0471 - root_mean_squared_error: 2.6851 - val_loss: 3.5904 - val_root_mean_squared_error: 4.3420\n",
            "Epoch 395/1000\n",
            "5/5 [==============================] - 0s 36ms/step - loss: 2.3225 - root_mean_squared_error: 2.9513 - val_loss: 3.7273 - val_root_mean_squared_error: 5.0141\n",
            "Epoch 396/1000\n",
            "5/5 [==============================] - 0s 40ms/step - loss: 2.3093 - root_mean_squared_error: 2.9267 - val_loss: 3.3926 - val_root_mean_squared_error: 4.3751\n",
            "Epoch 397/1000\n",
            "5/5 [==============================] - 0s 37ms/step - loss: 2.1281 - root_mean_squared_error: 2.8474 - val_loss: 3.5885 - val_root_mean_squared_error: 4.3470\n",
            "Epoch 398/1000\n",
            "5/5 [==============================] - 0s 38ms/step - loss: 2.1728 - root_mean_squared_error: 2.8456 - val_loss: 3.4532 - val_root_mean_squared_error: 4.7797\n",
            "Epoch 399/1000\n",
            "5/5 [==============================] - 0s 36ms/step - loss: 2.2980 - root_mean_squared_error: 2.9070 - val_loss: 3.6009 - val_root_mean_squared_error: 4.8992\n",
            "Epoch 400/1000\n",
            "5/5 [==============================] - 0s 38ms/step - loss: 2.1081 - root_mean_squared_error: 2.7673 - val_loss: 3.4746 - val_root_mean_squared_error: 4.3506\n",
            "Epoch 401/1000\n",
            "5/5 [==============================] - 0s 39ms/step - loss: 2.0888 - root_mean_squared_error: 2.7283 - val_loss: 3.3327 - val_root_mean_squared_error: 4.3975\n",
            "Epoch 402/1000\n",
            "5/5 [==============================] - 0s 38ms/step - loss: 2.1786 - root_mean_squared_error: 2.8060 - val_loss: 3.5196 - val_root_mean_squared_error: 4.8295\n",
            "Epoch 403/1000\n",
            "5/5 [==============================] - 0s 37ms/step - loss: 2.2106 - root_mean_squared_error: 2.8851 - val_loss: 3.3975 - val_root_mean_squared_error: 4.3532\n",
            "Epoch 404/1000\n",
            "5/5 [==============================] - 0s 37ms/step - loss: 2.0108 - root_mean_squared_error: 2.6659 - val_loss: 3.2545 - val_root_mean_squared_error: 4.4538\n",
            "Epoch 405/1000\n",
            "5/5 [==============================] - 0s 37ms/step - loss: 1.9955 - root_mean_squared_error: 2.6605 - val_loss: 3.2650 - val_root_mean_squared_error: 4.4470\n",
            "Epoch 406/1000\n",
            "5/5 [==============================] - 0s 39ms/step - loss: 1.9929 - root_mean_squared_error: 2.6472 - val_loss: 3.2872 - val_root_mean_squared_error: 4.4239\n",
            "Epoch 407/1000\n",
            "5/5 [==============================] - 0s 42ms/step - loss: 2.0572 - root_mean_squared_error: 2.7137 - val_loss: 3.2950 - val_root_mean_squared_error: 4.5720\n",
            "Epoch 408/1000\n",
            "5/5 [==============================] - 0s 37ms/step - loss: 2.0612 - root_mean_squared_error: 2.6873 - val_loss: 3.5061 - val_root_mean_squared_error: 4.3569\n",
            "Epoch 409/1000\n",
            "5/5 [==============================] - 0s 37ms/step - loss: 2.1838 - root_mean_squared_error: 2.8452 - val_loss: 3.6295 - val_root_mean_squared_error: 4.3736\n",
            "Epoch 410/1000\n",
            "5/5 [==============================] - 0s 38ms/step - loss: 2.3429 - root_mean_squared_error: 2.9519 - val_loss: 3.9776 - val_root_mean_squared_error: 5.2319\n",
            "Epoch 411/1000\n",
            "5/5 [==============================] - 0s 37ms/step - loss: 2.5576 - root_mean_squared_error: 3.2069 - val_loss: 3.4894 - val_root_mean_squared_error: 4.3411\n",
            "Epoch 412/1000\n",
            "5/5 [==============================] - 0s 40ms/step - loss: 2.2968 - root_mean_squared_error: 2.8552 - val_loss: 3.5744 - val_root_mean_squared_error: 4.3412\n",
            "Epoch 413/1000\n",
            "5/5 [==============================] - 0s 36ms/step - loss: 2.4106 - root_mean_squared_error: 3.0487 - val_loss: 4.1441 - val_root_mean_squared_error: 5.4024\n",
            "Epoch 414/1000\n",
            "5/5 [==============================] - 0s 37ms/step - loss: 2.5893 - root_mean_squared_error: 3.1946 - val_loss: 3.5132 - val_root_mean_squared_error: 4.3500\n",
            "Epoch 415/1000\n",
            "5/5 [==============================] - 0s 36ms/step - loss: 2.4440 - root_mean_squared_error: 2.9708 - val_loss: 3.5290 - val_root_mean_squared_error: 4.3497\n",
            "Epoch 416/1000\n",
            "5/5 [==============================] - 0s 37ms/step - loss: 2.3373 - root_mean_squared_error: 2.9510 - val_loss: 3.7783 - val_root_mean_squared_error: 5.0749\n",
            "Epoch 417/1000\n",
            "5/5 [==============================] - 0s 36ms/step - loss: 2.2756 - root_mean_squared_error: 2.8415 - val_loss: 3.7057 - val_root_mean_squared_error: 4.3800\n",
            "Epoch 418/1000\n",
            "5/5 [==============================] - 0s 37ms/step - loss: 2.1909 - root_mean_squared_error: 2.8781 - val_loss: 3.2865 - val_root_mean_squared_error: 4.5587\n",
            "Epoch 419/1000\n",
            "5/5 [==============================] - 0s 36ms/step - loss: 2.1448 - root_mean_squared_error: 2.8438 - val_loss: 3.6345 - val_root_mean_squared_error: 4.9247\n",
            "Epoch 420/1000\n",
            "5/5 [==============================] - 0s 38ms/step - loss: 2.1665 - root_mean_squared_error: 2.7998 - val_loss: 3.4832 - val_root_mean_squared_error: 4.3451\n",
            "Epoch 421/1000\n",
            "5/5 [==============================] - 0s 39ms/step - loss: 2.1586 - root_mean_squared_error: 2.7989 - val_loss: 3.2681 - val_root_mean_squared_error: 4.5465\n",
            "Epoch 422/1000\n",
            "5/5 [==============================] - 0s 37ms/step - loss: 2.0752 - root_mean_squared_error: 2.6729 - val_loss: 3.6476 - val_root_mean_squared_error: 4.9331\n",
            "Epoch 423/1000\n",
            "5/5 [==============================] - 0s 39ms/step - loss: 2.1565 - root_mean_squared_error: 2.8310 - val_loss: 3.3884 - val_root_mean_squared_error: 4.3431\n",
            "Epoch 424/1000\n",
            "5/5 [==============================] - 0s 37ms/step - loss: 2.0066 - root_mean_squared_error: 2.6465 - val_loss: 3.3234 - val_root_mean_squared_error: 4.6298\n",
            "Epoch 425/1000\n",
            "5/5 [==============================] - 0s 37ms/step - loss: 2.0761 - root_mean_squared_error: 2.6568 - val_loss: 3.3901 - val_root_mean_squared_error: 4.6889\n",
            "Epoch 426/1000\n",
            "5/5 [==============================] - 0s 37ms/step - loss: 2.1810 - root_mean_squared_error: 2.7916 - val_loss: 3.3475 - val_root_mean_squared_error: 4.3561\n",
            "Epoch 427/1000\n",
            "5/5 [==============================] - 0s 37ms/step - loss: 2.1189 - root_mean_squared_error: 2.7398 - val_loss: 3.6185 - val_root_mean_squared_error: 4.3660\n",
            "Epoch 428/1000\n",
            "5/5 [==============================] - 0s 40ms/step - loss: 2.1572 - root_mean_squared_error: 2.7250 - val_loss: 3.6861 - val_root_mean_squared_error: 4.9660\n",
            "Epoch 429/1000\n",
            "5/5 [==============================] - 0s 39ms/step - loss: 2.2333 - root_mean_squared_error: 2.7394 - val_loss: 3.3891 - val_root_mean_squared_error: 4.3460\n",
            "Epoch 430/1000\n",
            "5/5 [==============================] - 0s 38ms/step - loss: 2.1705 - root_mean_squared_error: 2.7616 - val_loss: 3.4775 - val_root_mean_squared_error: 4.3372\n",
            "Epoch 431/1000\n",
            "5/5 [==============================] - 0s 37ms/step - loss: 2.2688 - root_mean_squared_error: 2.8347 - val_loss: 3.2772 - val_root_mean_squared_error: 4.3921\n",
            "Epoch 432/1000\n",
            "5/5 [==============================] - 0s 36ms/step - loss: 2.2573 - root_mean_squared_error: 2.8990 - val_loss: 3.4651 - val_root_mean_squared_error: 4.7529\n",
            "Epoch 433/1000\n",
            "5/5 [==============================] - 0s 39ms/step - loss: 2.1240 - root_mean_squared_error: 2.7579 - val_loss: 3.2550 - val_root_mean_squared_error: 4.4208\n",
            "Epoch 434/1000\n",
            "5/5 [==============================] - 0s 37ms/step - loss: 2.0391 - root_mean_squared_error: 2.6824 - val_loss: 3.3741 - val_root_mean_squared_error: 4.6654\n",
            "Epoch 435/1000\n",
            "5/5 [==============================] - 0s 37ms/step - loss: 2.0850 - root_mean_squared_error: 2.7069 - val_loss: 3.2737 - val_root_mean_squared_error: 4.5415\n",
            "Epoch 436/1000\n",
            "5/5 [==============================] - 0s 37ms/step - loss: 2.0466 - root_mean_squared_error: 2.7006 - val_loss: 3.2543 - val_root_mean_squared_error: 4.4555\n",
            "Epoch 437/1000\n",
            "5/5 [==============================] - 0s 36ms/step - loss: 1.9672 - root_mean_squared_error: 2.6186 - val_loss: 3.2642 - val_root_mean_squared_error: 4.4867\n",
            "Epoch 438/1000\n",
            "5/5 [==============================] - 0s 35ms/step - loss: 1.9702 - root_mean_squared_error: 2.6497 - val_loss: 3.4020 - val_root_mean_squared_error: 4.3479\n",
            "Epoch 439/1000\n",
            "5/5 [==============================] - 0s 41ms/step - loss: 2.0786 - root_mean_squared_error: 2.7145 - val_loss: 3.3613 - val_root_mean_squared_error: 4.3575\n",
            "Epoch 440/1000\n",
            "5/5 [==============================] - 0s 37ms/step - loss: 1.9671 - root_mean_squared_error: 2.6230 - val_loss: 3.3159 - val_root_mean_squared_error: 4.6041\n",
            "Epoch 441/1000\n",
            "5/5 [==============================] - 0s 37ms/step - loss: 1.9713 - root_mean_squared_error: 2.6652 - val_loss: 3.2727 - val_root_mean_squared_error: 4.4911\n",
            "Epoch 442/1000\n",
            "5/5 [==============================] - 0s 38ms/step - loss: 2.0391 - root_mean_squared_error: 2.6780 - val_loss: 3.2793 - val_root_mean_squared_error: 4.5108\n",
            "Epoch 443/1000\n",
            "5/5 [==============================] - 0s 38ms/step - loss: 2.0892 - root_mean_squared_error: 2.7425 - val_loss: 3.3353 - val_root_mean_squared_error: 4.3732\n",
            "Epoch 444/1000\n",
            "5/5 [==============================] - 0s 40ms/step - loss: 2.0810 - root_mean_squared_error: 2.7737 - val_loss: 3.3235 - val_root_mean_squared_error: 4.3841\n",
            "Epoch 445/1000\n",
            "5/5 [==============================] - 0s 38ms/step - loss: 1.9671 - root_mean_squared_error: 2.6273 - val_loss: 3.4569 - val_root_mean_squared_error: 4.3732\n",
            "Epoch 446/1000\n",
            "5/5 [==============================] - 0s 38ms/step - loss: 2.0726 - root_mean_squared_error: 2.7493 - val_loss: 3.4059 - val_root_mean_squared_error: 4.6816\n",
            "Epoch 447/1000\n",
            "5/5 [==============================] - 0s 38ms/step - loss: 1.9971 - root_mean_squared_error: 2.6817 - val_loss: 3.2855 - val_root_mean_squared_error: 4.4548\n",
            "Epoch 448/1000\n",
            "5/5 [==============================] - 0s 38ms/step - loss: 1.9634 - root_mean_squared_error: 2.6467 - val_loss: 3.2774 - val_root_mean_squared_error: 4.5129\n",
            "Epoch 449/1000\n",
            "5/5 [==============================] - 0s 38ms/step - loss: 2.0725 - root_mean_squared_error: 2.7316 - val_loss: 3.5963 - val_root_mean_squared_error: 4.8622\n",
            "Epoch 450/1000\n",
            "5/5 [==============================] - 0s 37ms/step - loss: 2.2504 - root_mean_squared_error: 2.8950 - val_loss: 3.4240 - val_root_mean_squared_error: 4.3521\n",
            "Epoch 451/1000\n",
            "5/5 [==============================] - 0s 40ms/step - loss: 1.9732 - root_mean_squared_error: 2.6287 - val_loss: 3.3479 - val_root_mean_squared_error: 4.3697\n",
            "Epoch 452/1000\n",
            "5/5 [==============================] - 0s 40ms/step - loss: 2.0335 - root_mean_squared_error: 2.6844 - val_loss: 3.3170 - val_root_mean_squared_error: 4.3790\n",
            "Epoch 453/1000\n",
            "5/5 [==============================] - 0s 41ms/step - loss: 2.1486 - root_mean_squared_error: 2.8075 - val_loss: 3.4523 - val_root_mean_squared_error: 4.3616\n",
            "Epoch 454/1000\n",
            "5/5 [==============================] - 0s 38ms/step - loss: 2.0341 - root_mean_squared_error: 2.6491 - val_loss: 3.2947 - val_root_mean_squared_error: 4.5731\n",
            "Epoch 455/1000\n",
            "5/5 [==============================] - 0s 41ms/step - loss: 2.0450 - root_mean_squared_error: 2.6502 - val_loss: 3.4665 - val_root_mean_squared_error: 4.3640\n",
            "Epoch 456/1000\n",
            "5/5 [==============================] - 0s 43ms/step - loss: 2.1131 - root_mean_squared_error: 2.7567 - val_loss: 3.5009 - val_root_mean_squared_error: 4.3713\n",
            "Epoch 457/1000\n",
            "5/5 [==============================] - 0s 40ms/step - loss: 2.0034 - root_mean_squared_error: 2.6042 - val_loss: 3.4062 - val_root_mean_squared_error: 4.6710\n",
            "Epoch 458/1000\n",
            "5/5 [==============================] - 0s 40ms/step - loss: 1.9862 - root_mean_squared_error: 2.6322 - val_loss: 3.2621 - val_root_mean_squared_error: 4.5020\n",
            "Epoch 459/1000\n",
            "5/5 [==============================] - 0s 37ms/step - loss: 1.9263 - root_mean_squared_error: 2.5655 - val_loss: 3.3927 - val_root_mean_squared_error: 4.3808\n",
            "Epoch 460/1000\n",
            "5/5 [==============================] - 0s 41ms/step - loss: 2.0162 - root_mean_squared_error: 2.6467 - val_loss: 3.4272 - val_root_mean_squared_error: 4.6892\n",
            "Epoch 461/1000\n",
            "5/5 [==============================] - 0s 40ms/step - loss: 2.0070 - root_mean_squared_error: 2.6439 - val_loss: 3.3114 - val_root_mean_squared_error: 4.5499\n",
            "Epoch 462/1000\n",
            "5/5 [==============================] - 0s 39ms/step - loss: 1.9272 - root_mean_squared_error: 2.5909 - val_loss: 3.4143 - val_root_mean_squared_error: 4.3943\n",
            "Epoch 463/1000\n",
            "5/5 [==============================] - 0s 38ms/step - loss: 2.0114 - root_mean_squared_error: 2.6553 - val_loss: 3.3778 - val_root_mean_squared_error: 4.3945\n",
            "Epoch 464/1000\n",
            "5/5 [==============================] - 0s 39ms/step - loss: 1.9900 - root_mean_squared_error: 2.6074 - val_loss: 3.2366 - val_root_mean_squared_error: 4.4650\n",
            "Epoch 465/1000\n",
            "5/5 [==============================] - 0s 40ms/step - loss: 1.9275 - root_mean_squared_error: 2.6132 - val_loss: 3.6206 - val_root_mean_squared_error: 4.8814\n",
            "Epoch 466/1000\n",
            "5/5 [==============================] - 0s 40ms/step - loss: 2.0891 - root_mean_squared_error: 2.6777 - val_loss: 3.5018 - val_root_mean_squared_error: 4.7593\n",
            "Epoch 467/1000\n",
            "5/5 [==============================] - 0s 38ms/step - loss: 2.1256 - root_mean_squared_error: 2.7241 - val_loss: 3.5192 - val_root_mean_squared_error: 4.7858\n",
            "Epoch 468/1000\n",
            "5/5 [==============================] - 0s 38ms/step - loss: 2.0825 - root_mean_squared_error: 2.7313 - val_loss: 3.2874 - val_root_mean_squared_error: 4.5505\n",
            "Epoch 469/1000\n",
            "5/5 [==============================] - 0s 40ms/step - loss: 1.9949 - root_mean_squared_error: 2.6451 - val_loss: 3.2292 - val_root_mean_squared_error: 4.4269\n",
            "Epoch 470/1000\n",
            "5/5 [==============================] - 0s 40ms/step - loss: 1.9462 - root_mean_squared_error: 2.5762 - val_loss: 3.2548 - val_root_mean_squared_error: 4.3906\n",
            "Epoch 471/1000\n",
            "5/5 [==============================] - 0s 37ms/step - loss: 1.9803 - root_mean_squared_error: 2.6249 - val_loss: 3.2376 - val_root_mean_squared_error: 4.4828\n",
            "Epoch 472/1000\n",
            "5/5 [==============================] - 0s 41ms/step - loss: 1.9478 - root_mean_squared_error: 2.6226 - val_loss: 3.6419 - val_root_mean_squared_error: 4.8939\n",
            "Epoch 473/1000\n",
            "5/5 [==============================] - 0s 38ms/step - loss: 2.1713 - root_mean_squared_error: 2.7735 - val_loss: 3.2498 - val_root_mean_squared_error: 4.4387\n",
            "Epoch 474/1000\n",
            "5/5 [==============================] - 0s 38ms/step - loss: 2.1672 - root_mean_squared_error: 2.7082 - val_loss: 3.6659 - val_root_mean_squared_error: 4.4219\n",
            "Epoch 475/1000\n",
            "5/5 [==============================] - 0s 42ms/step - loss: 2.2667 - root_mean_squared_error: 2.8799 - val_loss: 3.2691 - val_root_mean_squared_error: 4.5099\n",
            "Epoch 476/1000\n",
            "5/5 [==============================] - 0s 37ms/step - loss: 2.2598 - root_mean_squared_error: 2.9876 - val_loss: 4.1826 - val_root_mean_squared_error: 5.3753\n",
            "Epoch 477/1000\n",
            "5/5 [==============================] - 0s 37ms/step - loss: 2.3274 - root_mean_squared_error: 2.8969 - val_loss: 3.6520 - val_root_mean_squared_error: 4.3818\n",
            "Epoch 478/1000\n",
            "5/5 [==============================] - 0s 39ms/step - loss: 2.1796 - root_mean_squared_error: 2.8531 - val_loss: 3.6991 - val_root_mean_squared_error: 4.9784\n",
            "Epoch 479/1000\n",
            "5/5 [==============================] - 0s 39ms/step - loss: 2.1514 - root_mean_squared_error: 2.7798 - val_loss: 3.4354 - val_root_mean_squared_error: 4.7017\n",
            "Epoch 480/1000\n",
            "5/5 [==============================] - 0s 37ms/step - loss: 2.0272 - root_mean_squared_error: 2.5757 - val_loss: 3.8415 - val_root_mean_squared_error: 4.5038\n",
            "Epoch 481/1000\n",
            "5/5 [==============================] - 0s 38ms/step - loss: 2.3636 - root_mean_squared_error: 2.9649 - val_loss: 4.1028 - val_root_mean_squared_error: 5.3086\n",
            "Epoch 482/1000\n",
            "5/5 [==============================] - 0s 38ms/step - loss: 2.3594 - root_mean_squared_error: 2.9620 - val_loss: 3.5638 - val_root_mean_squared_error: 4.8440\n",
            "Epoch 483/1000\n",
            "5/5 [==============================] - 0s 39ms/step - loss: 2.2486 - root_mean_squared_error: 2.8419 - val_loss: 3.7074 - val_root_mean_squared_error: 4.4223\n",
            "Epoch 484/1000\n",
            "5/5 [==============================] - 0s 38ms/step - loss: 2.5172 - root_mean_squared_error: 3.1047 - val_loss: 4.4315 - val_root_mean_squared_error: 5.5882\n",
            "Epoch 485/1000\n",
            "5/5 [==============================] - 0s 38ms/step - loss: 2.3543 - root_mean_squared_error: 3.0153 - val_loss: 3.4176 - val_root_mean_squared_error: 4.3634\n",
            "Epoch 486/1000\n",
            "5/5 [==============================] - 0s 40ms/step - loss: 2.2656 - root_mean_squared_error: 2.9031 - val_loss: 3.3126 - val_root_mean_squared_error: 4.5900\n",
            "Epoch 487/1000\n",
            "5/5 [==============================] - 0s 39ms/step - loss: 2.1724 - root_mean_squared_error: 2.7463 - val_loss: 3.4139 - val_root_mean_squared_error: 4.7144\n",
            "Epoch 488/1000\n",
            "5/5 [==============================] - 0s 38ms/step - loss: 2.1214 - root_mean_squared_error: 2.7352 - val_loss: 3.2919 - val_root_mean_squared_error: 4.5344\n"
          ]
        }
      ],
      "source": [
        "n_steps = 80\n",
        "# split into samples\n",
        "from keras.layers import Dense\n",
        "from keras.layers import Flatten\n",
        "from keras.layers import TimeDistributed\n",
        "from keras.layers.convolutional import Conv1D\n",
        "from keras.layers.convolutional import MaxPooling1D\n",
        "from tensorflow.keras.callbacks import ModelCheckpoint, EarlyStopping\n",
        "from tensorflow.keras.optimizers import Adam\n",
        "from tensorflow.keras.metrics import RootMeanSquaredError\n",
        "cp = ModelCheckpoint('model103/', save_best_only=True, monitor='val_root_mean_squared_error')\n",
        "early_stopping = EarlyStopping(monitor='val_root_mean_squared_error', patience=100)\n",
        "\n",
        "X, y = sliding_window(list(dataset)[:len(dataset)-last], n_steps)\n",
        "X_val, y_val = sliding_window(list(agg3_close_v1)[len(dataset)-last:], n_steps)\n",
        "\n",
        "# reshape from [samples, timesteps] into [samples, timesteps, features]\n",
        "n_features = 1\n",
        "n_seq = 2\n",
        "n_steps = 40\n",
        "X = X.reshape((X.shape[0], n_seq, n_steps, n_features)) \n",
        "# define model\n",
        "model = Sequential()\n",
        "model.add(TimeDistributed(Conv1D(filters=128, kernel_size=2, activation='relu'),\n",
        "input_shape=(None, n_steps, n_features))) \n",
        "model.add(TimeDistributed(MaxPooling1D(pool_size=4))) \n",
        "model.add(TimeDistributed(Flatten())) \n",
        "model.add(LSTM(200, activation='relu')) \n",
        "model.add(Dense(120, activation='relu'))\n",
        "model.add(Dense(1))\n",
        "opt = Adam(learning_rate=.0001)\n",
        "model.compile(optimizer=opt, loss='mae', metrics=[RootMeanSquaredError()])\n",
        "# fit model\n",
        "\n",
        "\n",
        "#history = model.fit(X, y, epochs=1000, , verbose=1, callbacks=[cp])\n",
        "history = model.fit(X, y, epochs=1000, validation_split=.1, callbacks=[early_stopping,cp])"
      ]
    },
    {
      "cell_type": "code",
      "source": [
        "plt.figure(figsize = (10,5))\n",
        "plt.plot(history.history['loss'])\n",
        "plt.plot(history.history['val_loss'])\n",
        "plt.title('model loss')\n",
        "plt.ylabel('loss')\n",
        "plt.xlabel('epoch')\n",
        "plt.legend(['train', 'test'], loc='upper left')\n",
        "plt.show()"
      ],
      "metadata": {
        "colab": {
          "base_uri": "https://localhost:8080/",
          "height": 354
        },
        "id": "XZqn6-uIfcIH",
        "outputId": "acc6fe7b-1373-4e5e-d575-4afb7d7ea733"
      },
      "execution_count": null,
      "outputs": [
        {
          "output_type": "display_data",
          "data": {
            "text/plain": [
              "<Figure size 720x360 with 1 Axes>"
            ],
            "image/png": "[encoded data removed]"
          },
          "metadata": {}
        }
      ]
    },
    {
      "cell_type": "code",
      "execution_count": null,
      "metadata": {
        "id": "slfZityexgU_"
      },
      "outputs": [],
      "source": [
        "# demonstrate prediction for next cycles\n",
        "from tensorflow.keras.models import load_model\n",
        "model100 = load_model('model103/')\n",
        "\n",
        "x_input = np.array(list(dataset)[-80-1:])\n",
        "temp_input=list(x_input)\n",
        "lst_output=[]\n",
        "i=0\n",
        "cycles = last\n",
        "while(i<cycles):\n",
        "    \n",
        "    if(len(temp_input)>3):\n",
        "        x_input=np.array(temp_input[1:])\n",
        "        x_input = x_input.reshape((1, 2, 40, n_features))\n",
        "        yhat = model.predict(x_input, verbose=0)\n",
        "        temp_input.append(yhat[0][0])\n",
        "        temp_input=temp_input[1:]\n",
        "        lst_output.append(yhat[0][0])\n",
        "        i=i+1\n",
        "    else:\n",
        "        x_input = x_input.reshape((1, 2, 40, n_features))\n",
        "        yhat = model.predict(x_input, verbose=0)\n",
        "        print(yhat[0])\n",
        "        temp_input.append(yhat[0][0])\n",
        "        lst_output.append(yhat[0][0])\n",
        "        i=i+1\n",
        "    \n"
      ]
    },
    {
      "cell_type": "code",
      "execution_count": null,
      "metadata": {
        "colab": {
          "base_uri": "https://localhost:8080/",
          "height": 451
        },
        "id": "2tkRgOlAxgVA",
        "outputId": "4f8f5f3a-92f8-42c9-a608-d206ea60d8d4"
      },
      "outputs": [
        {
          "output_type": "display_data",
          "data": {
            "text/plain": [
              "<Figure size 1008x504 with 1 Axes>"
            ],
            "image/png": "[encoded data removed]"
          },
          "metadata": {}
        }
      ],
      "source": [
        "new_cycle=np.arange(0,len(dataset)-last)\n",
        "cycle_pred=np.arange(len(dataset)-last,len(dataset)-last+cycles)\n",
        "plt.figure(figsize=(14,7))\n",
        "plt.plot(new_cycle,list(dataset)[:len(dataset)-last], \n",
        "         label='Training Data')\n",
        "plt.plot(np.arange(len(dataset)-last,len(dataset)), \n",
        "         list(dataset)[len(dataset)-last:], label='Validation Data', ls='-')\n",
        "plt.plot(cycle_pred,lst_output, c='green', label='Prediction', ls='--')\n",
        "\n",
        "plt.xlabel('Number of cycles', fontsize=15)\n",
        "plt.yticks(fontsize=14)\n",
        "plt.xticks(fontsize=14)\n",
        "plt.ylabel('Time-lag (seconds)', fontsize=15)\n",
        "plt.legend(fontsize=15)\n",
        "plt.savefig('/content/gdrive/My Drive/MASTER_data/CNN_LSTM_80_40_close_v1.png')"
      ]
    },
    {
      "cell_type": "code",
      "source": [
        "from tensorflow.keras.metrics import mean_squared_error\n",
        "print(f'RMSE {np.sqrt(mean_squared_error(list(dataset)[len(dataset)-last:], lst_output))}')\n",
        "print(f'STD {np.std(np.array(list(dataset)[len(dataset)-last:]) - np.array(lst_output))}')\n",
        "print(f'Correlation {np.corrcoef(np.array((np.array(list(dataset)[len(dataset)-last:]), np.array(lst_output))))[0, 1]}')\n",
        "print(f'SAD {np.sum(np.abs(np.array((np.array(list(dataset)[len(dataset)-last:]) - np.array(lst_output)))))}')\n",
        "print(f'SSD {np.sum(np.square(np.array((np.array(list(dataset)[len(dataset)-last:]) - np.array(lst_output)))))}')"
      ],
      "metadata": {
        "id": "em57pV6BKnmd",
        "colab": {
          "base_uri": "https://localhost:8080/"
        },
        "outputId": "e65127b6-d1d0-4d95-9039-f9dcc8a8d06c"
      },
      "execution_count": null,
      "outputs": [
        {
          "output_type": "stream",
          "name": "stdout",
          "text": [
            "RMSE 3.951495409011841\n",
            "STD 3.9510061648899106\n",
            "Correlation 0.42070050545106236\n",
            "SAD 317.3453073730469\n",
            "SSD 1561.4314018776588\n"
          ]
        }
      ]
    },
    {
      "cell_type": "code",
      "source": [
        ""
      ],
      "metadata": {
        "id": "Y5PTlf80Hifa"
      },
      "execution_count": null,
      "outputs": []
    }
  ],
  "metadata": {
    "kernelspec": {
      "display_name": "Python 3",
      "language": "python",
      "name": "python3"
    },
    "language_info": {
      "codemirror_mode": {
        "name": "ipython",
        "version": 3
      },
      "file_extension": ".py",
      "mimetype": "text/x-python",
      "name": "python",
      "nbconvert_exporter": "python",
      "pygments_lexer": "ipython3",
      "version": "3.8.5"
    },
    "colab": {
      "name": "CNN_LSTM_example.ipynb",
      "provenance": [],
      "collapsed_sections": [],
      "include_colab_link": true
    }
  },
  "nbformat": 4,
  "nbformat_minor": 0
}